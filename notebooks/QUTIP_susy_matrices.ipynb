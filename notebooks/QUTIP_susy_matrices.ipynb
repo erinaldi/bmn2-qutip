{
 "cells": [
  {
   "cell_type": "markdown",
   "metadata": {},
   "source": [
    "# SU(2) mini-BMN Hamiltonians\n",
    "\n",
    "The following cell defines a function which creates the bosons, then it creates the SU(2) mini-BMN Hamiltonian. \n",
    "The function receives the number of bosons ($n_b$), the number of fermions ($n_f$), and the size of the bosons ($n$) as arguments.\n",
    "For example, for 6 bosons that are $2 \\times 2$ and 3 fermions, the function call would look like `bosonHamiltonians(6, 3, 8)`.\n",
    "The function returns four Hamiltonians."
   ]
  },
  {
   "cell_type": "markdown",
   "metadata": {},
   "source": [
    "- First, an annihilation operator and identity matrix are created. Each of the 6 bosons are constructed by taking the Kronecker product of the annihilation operator with the identity matrix, in a specific order. For the $n^{th}$ boson, the annhiliation operator will be the $n^{th}$ term of the Kronecker product. Note that for an $n \\times n$ boson, the identity matrix and annhilation operator are $n \\times n$. The last term in the Kronecker product is an identity matrix of size $2^{n_f} \\times 2^{n_f}$.\n",
    "- For example, the first boson's Kronecker product would look like \n",
    "$$\\hat{a}_n \\otimes I_n \\otimes I_n \\otimes I_n \\otimes I_n \\otimes I_n \\otimes I_{2^{n_f}}$$\n",
    "where $\\hat{a}$ is the annihilation operator and $I$ is the identity matrix and the subscript denotes the size of the matrix (subscript n means it has size $n \\times n$ and subscript $2^{n_f}$ means it has size $2^{n_f} \\times 2^{n_f}$).\n",
    "- The 2nd boson would look like\n",
    "$$I_n \\otimes \\hat{a}_n \\otimes I_n \\otimes I_n \\otimes I_n \\otimes I_n \\otimes I_{2^{n_f}}$$\n",
    "- Each of the 3 fermions are constructed by taking the Kronecker product of the annihilation operator with the identity matrix and Pauli `Z` matrix, in a specific order. Note that the annihilation operator and identity matrix are always size $2 \\times 2$. The first term in the Kronecker product is an identity matrix of size $n^{n_b} \\times n^{nb}$, where again, $n \\times n$ is the boson size. For the $n^{th}$ fermion, the annhiliation operator will be the $n+1$ term of the Kronecker product and it will be followed by identity matrices and preceded by Pauli Z matrices.\n",
    "- For example, the first fermion will look like\n",
    "$$I_{n^{n_b}} \\otimes \\hat{a}_2 \\otimes I_2 \\otimes I_2$$\n",
    "where, the subscript $2$ denotes a size of $2 \\times 2$.\n",
    "- The second fermion will look like \n",
    "$$I_{n^{n_b}} \\otimes Z \\otimes \\hat{a}_2 \\otimes I_2$$\n",
    "where $Z$ is the Pauli `Z` matrix.\n",
    "- The third fermion will look like \n",
    "$$I_{n^{n_b}} \\otimes Z \\otimes Z \\otimes \\hat{a}_2$$"
   ]
  },
  {
   "cell_type": "markdown",
   "metadata": {},
   "source": [
    "## Use `qutip` to build the operators"
   ]
  },
  {
   "cell_type": "code",
   "execution_count": 1,
   "metadata": {},
   "outputs": [
    {
     "data": {
      "text/html": "<table><tr><th>Software</th><th>Version</th></tr><tr><td>QuTiP</td><td>4.5.3</td></tr><tr><td>Numpy</td><td>1.20.1</td></tr><tr><td>SciPy</td><td>1.6.1</td></tr><tr><td>matplotlib</td><td>3.3.4</td></tr><tr><td>Cython</td><td>0.29.22</td></tr><tr><td>Number of CPUs</td><td>6</td></tr><tr><td>BLAS Info</td><td>Generic</td></tr><tr><td>IPython</td><td>7.21.0</td></tr><tr><td>Python</td><td>3.9.2 | packaged by conda-forge | (default, Feb 21 2021, 05:02:46) \n[GCC 9.3.0]</td></tr><tr><td>OS</td><td>posix [linux]</td></tr><tr><td colspan='2'>Wed Jun 02 13:26:38 2021 JST</td></tr></table>",
      "text/plain": "<IPython.core.display.HTML object>"
     },
     "execution_count": 1,
     "metadata": {},
     "output_type": "execute_result"
    }
   ],
   "source": [
    "# check versioning\n",
    "from qutip.ipynbtools import version_table\n",
    "version_table()"
   ]
  },
  {
   "cell_type": "code",
   "execution_count": 2,
   "metadata": {},
   "outputs": [],
   "source": [
    "from qutip import *"
   ]
  },
  {
   "cell_type": "markdown",
   "metadata": {},
   "source": [
    "### Precalculate bosonic and fermionic annihilation /operators"
   ]
  },
  {
   "cell_type": "code",
   "execution_count": 3,
   "metadata": {},
   "outputs": [],
   "source": [
    "# cutoff of the modes for the bosonic space\n",
    "L = 3"
   ]
  },
  {
   "cell_type": "markdown",
   "metadata": {},
   "source": [
    "- Annihilation operator for bosons"
   ]
  },
  {
   "cell_type": "code",
   "execution_count": 4,
   "metadata": {},
   "outputs": [],
   "source": [
    "a_b = destroy(L)"
   ]
  },
  {
   "cell_type": "code",
   "execution_count": 5,
   "metadata": {},
   "outputs": [
    {
     "data": {
      "text/latex": "Quantum object: dims = [[3], [3]], shape = (3, 3), type = oper, isherm = False\\begin{equation*}\\left(\\begin{array}{*{11}c}0.0 & 1.0 & 0.0\\\\0.0 & 0.0 & 1.414\\\\0.0 & 0.0 & 0.0\\\\\\end{array}\\right)\\end{equation*}",
      "text/plain": "Quantum object: dims = [[3], [3]], shape = (3, 3), type = oper, isherm = False\nQobj data =\n[[0.         1.         0.        ]\n [0.         0.         1.41421356]\n [0.         0.         0.        ]]"
     },
     "execution_count": 5,
     "metadata": {},
     "output_type": "execute_result"
    }
   ],
   "source": [
    "a_b"
   ]
  },
  {
   "cell_type": "markdown",
   "metadata": {},
   "source": [
    "- Identity for single boson site"
   ]
  },
  {
   "cell_type": "code",
   "execution_count": 6,
   "metadata": {},
   "outputs": [],
   "source": [
    "i_b = qeye(L)"
   ]
  },
  {
   "cell_type": "code",
   "execution_count": 7,
   "metadata": {},
   "outputs": [
    {
     "data": {
      "text/latex": "Quantum object: dims = [[3], [3]], shape = (3, 3), type = oper, isherm = True\\begin{equation*}\\left(\\begin{array}{*{11}c}1.0 & 0.0 & 0.0\\\\0.0 & 1.0 & 0.0\\\\0.0 & 0.0 & 1.0\\\\\\end{array}\\right)\\end{equation*}",
      "text/plain": "Quantum object: dims = [[3], [3]], shape = (3, 3), type = oper, isherm = True\nQobj data =\n[[1. 0. 0.]\n [0. 1. 0.]\n [0. 0. 1.]]"
     },
     "execution_count": 7,
     "metadata": {},
     "output_type": "execute_result"
    }
   ],
   "source": [
    "i_b"
   ]
  },
  {
   "cell_type": "markdown",
   "metadata": {},
   "source": [
    "- Annihilation for fermions (they are all $2 \\times 2$ matrices)"
   ]
  },
  {
   "cell_type": "code",
   "execution_count": 8,
   "metadata": {},
   "outputs": [],
   "source": [
    "a_f = destroy(2)"
   ]
  },
  {
   "cell_type": "code",
   "execution_count": 9,
   "metadata": {},
   "outputs": [
    {
     "data": {
      "text/latex": "Quantum object: dims = [[2], [2]], shape = (2, 2), type = oper, isherm = False\\begin{equation*}\\left(\\begin{array}{*{11}c}0.0 & 1.0\\\\0.0 & 0.0\\\\\\end{array}\\right)\\end{equation*}",
      "text/plain": "Quantum object: dims = [[2], [2]], shape = (2, 2), type = oper, isherm = False\nQobj data =\n[[0. 1.]\n [0. 0.]]"
     },
     "execution_count": 9,
     "metadata": {},
     "output_type": "execute_result"
    }
   ],
   "source": [
    "a_f"
   ]
  },
  {
   "cell_type": "markdown",
   "metadata": {},
   "source": [
    "- Pauli `Z` matrix: $\\sigma_Z$"
   ]
  },
  {
   "cell_type": "code",
   "execution_count": 10,
   "metadata": {},
   "outputs": [],
   "source": [
    "sz = sigmaz()"
   ]
  },
  {
   "cell_type": "code",
   "execution_count": 11,
   "metadata": {},
   "outputs": [
    {
     "data": {
      "text/latex": "Quantum object: dims = [[2], [2]], shape = (2, 2), type = oper, isherm = True\\begin{equation*}\\left(\\begin{array}{*{11}c}1.0 & 0.0\\\\0.0 & -1.0\\\\\\end{array}\\right)\\end{equation*}",
      "text/plain": "Quantum object: dims = [[2], [2]], shape = (2, 2), type = oper, isherm = True\nQobj data =\n[[ 1.  0.]\n [ 0. -1.]]"
     },
     "execution_count": 11,
     "metadata": {},
     "output_type": "execute_result"
    }
   ],
   "source": [
    "sz"
   ]
  },
  {
   "cell_type": "markdown",
   "metadata": {},
   "source": [
    "- Identity for fermionic space"
   ]
  },
  {
   "cell_type": "code",
   "execution_count": 12,
   "metadata": {},
   "outputs": [],
   "source": [
    "i_f = qeye(2) "
   ]
  },
  {
   "cell_type": "code",
   "execution_count": 13,
   "metadata": {},
   "outputs": [
    {
     "data": {
      "text/latex": "Quantum object: dims = [[2], [2]], shape = (2, 2), type = oper, isherm = True\\begin{equation*}\\left(\\begin{array}{*{11}c}1.0 & 0.0\\\\0.0 & 1.0\\\\\\end{array}\\right)\\end{equation*}",
      "text/plain": "Quantum object: dims = [[2], [2]], shape = (2, 2), type = oper, isherm = True\nQobj data =\n[[1. 0.]\n [0. 1.]]"
     },
     "execution_count": 13,
     "metadata": {},
     "output_type": "execute_result"
    }
   ],
   "source": [
    "i_f"
   ]
  },
  {
   "cell_type": "markdown",
   "metadata": {},
   "source": [
    "### Bosonic Hilbert space operators"
   ]
  },
  {
   "cell_type": "code",
   "execution_count": 14,
   "metadata": {},
   "outputs": [],
   "source": [
    "N_bos = 6  # number of boson sites"
   ]
  },
  {
   "cell_type": "code",
   "execution_count": 15,
   "metadata": {},
   "outputs": [],
   "source": [
    "import numpy as np\n",
    "\n",
    "product_list = [i_b] * N_bos  # only the identity for bosons repeated N_bos times\n",
    "a_b_list = []  # this will contain a1...a6\n",
    "for i in np.arange(0,N_bos):  # loop over all bosonic operators\n",
    "    operator_list = product_list.copy()  # all elements are the identity operator\n",
    "    operator_list[i] = a_b  # the i^th element is now the annihilation operator for a single boson\n",
    "    a_b_list.append(tensor(operator_list))  # do the outer product, add .unit() to tensor if you want it normalized but it will take a long "
   ]
  },
  {
   "cell_type": "code",
   "execution_count": 16,
   "metadata": {},
   "outputs": [
    {
     "data": {
      "text/plain": "6"
     },
     "execution_count": 16,
     "metadata": {},
     "output_type": "execute_result"
    }
   ],
   "source": [
    "len(a_b_list)"
   ]
  },
  {
   "cell_type": "code",
   "execution_count": 17,
   "metadata": {},
   "outputs": [
    {
     "data": {
      "text/latex": "Quantum object: dims = [[3, 3, 3, 3, 3, 3], [3, 3, 3, 3, 3, 3]], shape = (729, 729), type = oper, isherm = False\\begin{equation*}\\left(\\begin{array}{*{11}c}0.0 & 0.0 & 0.0 & 0.0 & 0.0 & \\cdots & 0.0 & 0.0 & 0.0 & 0.0 & 0.0\\\\0.0 & 0.0 & 0.0 & 0.0 & 0.0 & \\cdots & 0.0 & 0.0 & 0.0 & 0.0 & 0.0\\\\0.0 & 0.0 & 0.0 & 0.0 & 0.0 & \\cdots & 0.0 & 0.0 & 0.0 & 0.0 & 0.0\\\\0.0 & 0.0 & 0.0 & 0.0 & 0.0 & \\cdots & 0.0 & 0.0 & 0.0 & 0.0 & 0.0\\\\0.0 & 0.0 & 0.0 & 0.0 & 0.0 & \\cdots & 0.0 & 0.0 & 0.0 & 0.0 & 0.0\\\\\\vdots & \\vdots & \\vdots & \\vdots & \\vdots & \\ddots & \\vdots & \\vdots & \\vdots & \\vdots & \\vdots\\\\0.0 & 0.0 & 0.0 & 0.0 & 0.0 & \\cdots & 0.0 & 0.0 & 0.0 & 0.0 & 0.0\\\\0.0 & 0.0 & 0.0 & 0.0 & 0.0 & \\cdots & 0.0 & 0.0 & 0.0 & 0.0 & 0.0\\\\0.0 & 0.0 & 0.0 & 0.0 & 0.0 & \\cdots & 0.0 & 0.0 & 0.0 & 0.0 & 0.0\\\\0.0 & 0.0 & 0.0 & 0.0 & 0.0 & \\cdots & 0.0 & 0.0 & 0.0 & 0.0 & 0.0\\\\0.0 & 0.0 & 0.0 & 0.0 & 0.0 & \\cdots & 0.0 & 0.0 & 0.0 & 0.0 & 0.0\\\\\\end{array}\\right)\\end{equation*}",
      "text/plain": "Quantum object: dims = [[3, 3, 3, 3, 3, 3], [3, 3, 3, 3, 3, 3]], shape = (729, 729), type = oper, isherm = False\nQobj data =\n[[0. 0. 0. ... 0. 0. 0.]\n [0. 0. 0. ... 0. 0. 0.]\n [0. 0. 0. ... 0. 0. 0.]\n ...\n [0. 0. 0. ... 0. 0. 0.]\n [0. 0. 0. ... 0. 0. 0.]\n [0. 0. 0. ... 0. 0. 0.]]"
     },
     "execution_count": 17,
     "metadata": {},
     "output_type": "execute_result"
    }
   ],
   "source": [
    "a_b_list[0]"
   ]
  },
  {
   "cell_type": "markdown",
   "metadata": {},
   "source": [
    "To make it work in the combined space of fermionic and bosonic sites, we need to take a final outer product with the fermionic space identity operator. We will do it later."
   ]
  },
  {
   "cell_type": "markdown",
   "metadata": {},
   "source": [
    "### Fermionic Hilbert space operators"
   ]
  },
  {
   "cell_type": "code",
   "execution_count": 18,
   "metadata": {},
   "outputs": [],
   "source": [
    "N_f = 3  # number of fermion sites"
   ]
  },
  {
   "cell_type": "markdown",
   "metadata": {},
   "source": [
    "Create a list of operators just for the fermions"
   ]
  },
  {
   "cell_type": "code",
   "execution_count": 19,
   "metadata": {},
   "outputs": [],
   "source": [
    "product_list = [i_f] * N_f  # only the identity for fermions repeated N_f times\n",
    "a_f_list = []  # this will contain f1...f3\n",
    "for i in np.arange(0,N_f):  # loop over all bosonic operators\n",
    "    operator_list = product_list.copy()  # all elements are the identity operator\n",
    "    operator_list[i] = a_f  # the i^th element is now the annihilation operator for a single fermion\n",
    "    for j in np.arange(0,i):  # the 0:(i-1) elements are replaced by sigma_Z\n",
    "        operator_list[j] = sz\n",
    "    a_f_list.append(tensor(operator_list))  # do the outer product, add .unit() to tensor if you want it normalized but it will take a long "
   ]
  },
  {
   "cell_type": "code",
   "execution_count": 20,
   "metadata": {},
   "outputs": [
    {
     "data": {
      "text/plain": "3"
     },
     "execution_count": 20,
     "metadata": {},
     "output_type": "execute_result"
    }
   ],
   "source": [
    "len(a_f_list)"
   ]
  },
  {
   "cell_type": "code",
   "execution_count": 21,
   "metadata": {},
   "outputs": [
    {
     "data": {
      "text/latex": "Quantum object: dims = [[2, 2, 2], [2, 2, 2]], shape = (8, 8), type = oper, isherm = False\\begin{equation*}\\left(\\begin{array}{*{11}c}0.0 & 0.0 & 0.0 & 0.0 & 1.0 & 0.0 & 0.0 & 0.0\\\\0.0 & 0.0 & 0.0 & 0.0 & 0.0 & 1.0 & 0.0 & 0.0\\\\0.0 & 0.0 & 0.0 & 0.0 & 0.0 & 0.0 & 1.0 & 0.0\\\\0.0 & 0.0 & 0.0 & 0.0 & 0.0 & 0.0 & 0.0 & 1.0\\\\0.0 & 0.0 & 0.0 & 0.0 & 0.0 & 0.0 & 0.0 & 0.0\\\\0.0 & 0.0 & 0.0 & 0.0 & 0.0 & 0.0 & 0.0 & 0.0\\\\0.0 & 0.0 & 0.0 & 0.0 & 0.0 & 0.0 & 0.0 & 0.0\\\\0.0 & 0.0 & 0.0 & 0.0 & 0.0 & 0.0 & 0.0 & 0.0\\\\\\end{array}\\right)\\end{equation*}",
      "text/plain": "Quantum object: dims = [[2, 2, 2], [2, 2, 2]], shape = (8, 8), type = oper, isherm = False\nQobj data =\n[[0. 0. 0. 0. 1. 0. 0. 0.]\n [0. 0. 0. 0. 0. 1. 0. 0.]\n [0. 0. 0. 0. 0. 0. 1. 0.]\n [0. 0. 0. 0. 0. 0. 0. 1.]\n [0. 0. 0. 0. 0. 0. 0. 0.]\n [0. 0. 0. 0. 0. 0. 0. 0.]\n [0. 0. 0. 0. 0. 0. 0. 0.]\n [0. 0. 0. 0. 0. 0. 0. 0.]]"
     },
     "execution_count": 21,
     "metadata": {},
     "output_type": "execute_result"
    }
   ],
   "source": [
    "a_f_list[0]"
   ]
  },
  {
   "cell_type": "markdown",
   "metadata": {},
   "source": [
    "These fermionic operators need to be preceded by the identity operator for the bosonic space, before taking another outer product. We will do that later."
   ]
  },
  {
   "cell_type": "markdown",
   "metadata": {},
   "source": [
    "### Combine the two spaces"
   ]
  },
  {
   "cell_type": "markdown",
   "metadata": {},
   "source": [
    "- Identity for bosonic space (dimension will be $L^{N_{bos}} \\times L^{N_{bos}}$)"
   ]
  },
  {
   "cell_type": "code",
   "execution_count": 22,
   "metadata": {},
   "outputs": [],
   "source": [
    "i_b_tot = tensor([qeye(L)]*N_bos) "
   ]
  },
  {
   "cell_type": "code",
   "execution_count": 23,
   "metadata": {},
   "outputs": [
    {
     "data": {
      "text/plain": "(729, 729)"
     },
     "execution_count": 23,
     "metadata": {},
     "output_type": "execute_result"
    }
   ],
   "source": [
    "i_b_tot.shape"
   ]
  },
  {
   "cell_type": "code",
   "execution_count": 24,
   "metadata": {},
   "outputs": [
    {
     "data": {
      "text/plain": "[[3, 3, 3, 3, 3, 3], [3, 3, 3, 3, 3, 3]]"
     },
     "execution_count": 24,
     "metadata": {},
     "output_type": "execute_result"
    }
   ],
   "source": [
    "i_b_tot.dims"
   ]
  },
  {
   "cell_type": "markdown",
   "metadata": {},
   "source": [
    "- Identity for fermionic space (dimension will be $2^{N_f} \\times 2^{N_f}$)"
   ]
  },
  {
   "cell_type": "code",
   "execution_count": 25,
   "metadata": {},
   "outputs": [],
   "source": [
    "i_f_tot = tensor([qeye(2)]*N_f)"
   ]
  },
  {
   "cell_type": "code",
   "execution_count": 26,
   "metadata": {},
   "outputs": [
    {
     "data": {
      "text/plain": "(8, 8)"
     },
     "execution_count": 26,
     "metadata": {},
     "output_type": "execute_result"
    }
   ],
   "source": [
    "i_f_tot.shape"
   ]
  },
  {
   "cell_type": "code",
   "execution_count": 27,
   "metadata": {},
   "outputs": [
    {
     "data": {
      "text/plain": "[[2, 2, 2], [2, 2, 2]]"
     },
     "execution_count": 27,
     "metadata": {},
     "output_type": "execute_result"
    }
   ],
   "source": [
    "i_f_tot.dims"
   ]
  },
  {
   "cell_type": "markdown",
   "metadata": {},
   "source": [
    "The $N_{bos}$ total bosonic operators and $N_f$ fermionic operators are constructed in a new list"
   ]
  },
  {
   "cell_type": "code",
   "execution_count": 28,
   "metadata": {},
   "outputs": [],
   "source": [
    "op_list = []\n",
    "for a in a_b_list:\n",
    "    op_list.append(tensor(a,i_f_tot))\n",
    "for a in a_f_list:\n",
    "    op_list.append(tensor(i_b_tot,a))"
   ]
  },
  {
   "cell_type": "code",
   "execution_count": 29,
   "metadata": {},
   "outputs": [
    {
     "data": {
      "text/plain": "9"
     },
     "execution_count": 29,
     "metadata": {},
     "output_type": "execute_result"
    }
   ],
   "source": [
    "len(op_list)"
   ]
  },
  {
   "cell_type": "code",
   "execution_count": 30,
   "metadata": {},
   "outputs": [
    {
     "name": "stdout",
     "output_type": "stream",
     "text": [
      "[[[3, 3, 3, 3, 3, 3, 2, 2, 2], [3, 3, 3, 3, 3, 3, 2, 2, 2]], [[3, 3, 3, 3, 3, 3, 2, 2, 2], [3, 3, 3, 3, 3, 3, 2, 2, 2]], [[3, 3, 3, 3, 3, 3, 2, 2, 2], [3, 3, 3, 3, 3, 3, 2, 2, 2]], [[3, 3, 3, 3, 3, 3, 2, 2, 2], [3, 3, 3, 3, 3, 3, 2, 2, 2]], [[3, 3, 3, 3, 3, 3, 2, 2, 2], [3, 3, 3, 3, 3, 3, 2, 2, 2]], [[3, 3, 3, 3, 3, 3, 2, 2, 2], [3, 3, 3, 3, 3, 3, 2, 2, 2]], [[3, 3, 3, 3, 3, 3, 2, 2, 2], [3, 3, 3, 3, 3, 3, 2, 2, 2]], [[3, 3, 3, 3, 3, 3, 2, 2, 2], [3, 3, 3, 3, 3, 3, 2, 2, 2]], [[3, 3, 3, 3, 3, 3, 2, 2, 2], [3, 3, 3, 3, 3, 3, 2, 2, 2]]]\n"
     ]
    }
   ],
   "source": [
    "print([o.dims for o in op_list])"
   ]
  },
  {
   "cell_type": "markdown",
   "metadata": {},
   "source": [
    "### Precompute the position operators for the bosons, needed in the interaction term"
   ]
  },
  {
   "cell_type": "code",
   "execution_count": 31,
   "metadata": {},
   "outputs": [],
   "source": [
    "x_list = []\n",
    "for op in op_list[:N_bos]:\n",
    "    x_list.append(1/np.sqrt(2)*(op.dag() + op))\n"
   ]
  },
  {
   "cell_type": "code",
   "execution_count": 32,
   "metadata": {},
   "outputs": [
    {
     "data": {
      "text/plain": "True"
     },
     "execution_count": 32,
     "metadata": {},
     "output_type": "execute_result"
    }
   ],
   "source": [
    "len(x_list)==N_bos"
   ]
  },
  {
   "cell_type": "markdown",
   "metadata": {},
   "source": [
    "## The full mini-BMN hamiltonian"
   ]
  },
  {
   "cell_type": "markdown",
   "metadata": {},
   "source": [
    "- The quadratic terms"
   ]
  },
  {
   "cell_type": "code",
   "execution_count": 33,
   "metadata": {},
   "outputs": [],
   "source": [
    "# Create the simple quartic Hamiltonian.\n",
    "H_q = 0\n",
    "\n",
    "for a in op_list[:N_bos]:\n",
    "    H_q = H_q + a.dag() * a\n",
    "    \n",
    "for a in op_list[-N_f:]:\n",
    "    H_q = H_q + (3./2) * a.dag() * a\n",
    "\n",
    "# vacuum energy\n",
    "H_q = H_q + 0.25*(2*N_bos-3*N_f-3)\n",
    "\n",
    "  "
   ]
  },
  {
   "cell_type": "code",
   "execution_count": 34,
   "metadata": {},
   "outputs": [
    {
     "data": {
      "text/plain": "(5832, 5832)"
     },
     "execution_count": 34,
     "metadata": {},
     "output_type": "execute_result"
    }
   ],
   "source": [
    "H_q.shape"
   ]
  },
  {
   "cell_type": "code",
   "execution_count": 35,
   "metadata": {},
   "outputs": [
    {
     "data": {
      "text/plain": "[[3, 3, 3, 3, 3, 3, 2, 2, 2], [3, 3, 3, 3, 3, 3, 2, 2, 2]]"
     },
     "execution_count": 35,
     "metadata": {},
     "output_type": "execute_result"
    }
   ],
   "source": [
    "H_q.dims"
   ]
  },
  {
   "cell_type": "markdown",
   "metadata": {},
   "source": [
    "- The interaction term for just bosons"
   ]
  },
  {
   "cell_type": "code",
   "execution_count": 36,
   "metadata": {},
   "outputs": [],
   "source": [
    "V_b = x_list[2]*x_list[2]*x_list[3]*x_list[3] + \\\n",
    "    x_list[2]*x_list[2]*x_list[4]*x_list[4] + \\\n",
    "    x_list[1]*x_list[1]*x_list[3]*x_list[3] + \\\n",
    "    x_list[1]*x_list[1]*x_list[5]*x_list[5] + \\\n",
    "    x_list[0]*x_list[0]*x_list[4]*x_list[4] + \\\n",
    "    x_list[0]*x_list[0]*x_list[5]*x_list[5] - \\\n",
    "2*x_list[0]*x_list[2]*x_list[3]*x_list[5] - \\\n",
    "2*x_list[0]*x_list[1]*x_list[3]*x_list[4] - \\\n",
    "2*x_list[1]*x_list[2]*x_list[4]*x_list[5]"
   ]
  },
  {
   "cell_type": "code",
   "execution_count": 37,
   "metadata": {},
   "outputs": [
    {
     "data": {
      "text/latex": "Quantum object: dims = [[3, 3, 3, 3, 3, 3, 2, 2, 2], [3, 3, 3, 3, 3, 3, 2, 2, 2]], shape = (5832, 5832), type = oper, isherm = True\\begin{equation*}\\left(\\begin{array}{*{11}c}1.500 & 0.0 & 0.0 & 0.0 & 0.0 & \\cdots & 0.0 & 0.0 & 0.0 & 0.0 & 0.0\\\\0.0 & 1.500 & 0.0 & 0.0 & 0.0 & \\cdots & 0.0 & 0.0 & 0.0 & 0.0 & 0.0\\\\0.0 & 0.0 & 1.500 & 0.0 & 0.0 & \\cdots & 0.0 & 0.0 & 0.0 & 0.0 & 0.0\\\\0.0 & 0.0 & 0.0 & 1.500 & 0.0 & \\cdots & 0.0 & 0.0 & 0.0 & 0.0 & 0.0\\\\0.0 & 0.0 & 0.0 & 0.0 & 1.500 & \\cdots & 0.0 & 0.0 & 0.0 & 0.0 & 0.0\\\\\\vdots & \\vdots & \\vdots & \\vdots & \\vdots & \\ddots & \\vdots & \\vdots & \\vdots & \\vdots & \\vdots\\\\0.0 & 0.0 & 0.0 & 0.0 & 0.0 & \\cdots & 6.0 & 0.0 & 0.0 & 0.0 & 0.0\\\\0.0 & 0.0 & 0.0 & 0.0 & 0.0 & \\cdots & 0.0 & 6.0 & 0.0 & 0.0 & 0.0\\\\0.0 & 0.0 & 0.0 & 0.0 & 0.0 & \\cdots & 0.0 & 0.0 & 6.0 & 0.0 & 0.0\\\\0.0 & 0.0 & 0.0 & 0.0 & 0.0 & \\cdots & 0.0 & 0.0 & 0.0 & 6.0 & 0.0\\\\0.0 & 0.0 & 0.0 & 0.0 & 0.0 & \\cdots & 0.0 & 0.0 & 0.0 & 0.0 & 6.0\\\\\\end{array}\\right)\\end{equation*}",
      "text/plain": "Quantum object: dims = [[3, 3, 3, 3, 3, 3, 2, 2, 2], [3, 3, 3, 3, 3, 3, 2, 2, 2]], shape = (5832, 5832), type = oper, isherm = True\nQobj data =\n[[1.5 0.  0.  ... 0.  0.  0. ]\n [0.  1.5 0.  ... 0.  0.  0. ]\n [0.  0.  1.5 ... 0.  0.  0. ]\n ...\n [0.  0.  0.  ... 6.  0.  0. ]\n [0.  0.  0.  ... 0.  6.  0. ]\n [0.  0.  0.  ... 0.  0.  6. ]]"
     },
     "execution_count": 37,
     "metadata": {},
     "output_type": "execute_result"
    }
   ],
   "source": [
    "V_b"
   ]
  },
  {
   "cell_type": "markdown",
   "metadata": {},
   "source": [
    "- The interaction term mixing bosons and fermions"
   ]
  },
  {
   "cell_type": "code",
   "execution_count": 38,
   "metadata": {},
   "outputs": [],
   "source": [
    "fermions = op_list[-N_f:]\n",
    "V_bf = (2j/np.sqrt(2))* \\\n",
    "        ( (x_list[0] - 1j*x_list[3]) * fermions[1].dag() * fermions[2].dag() \\\n",
    "        + (x_list[1] - 1j*x_list[4]) * fermions[2].dag() * fermions[0].dag() \\\n",
    "        + (x_list[2] - 1j*x_list[5]) * fermions[0].dag() * fermions[1].dag() \\\n",
    "        - (x_list[0] + 1j*x_list[3]) * fermions[2] * fermions[1] \\\n",
    "        - (x_list[1] + 1j*x_list[4]) * fermions[0] * fermions[2] \\\n",
    "        - (x_list[2] + 1j*x_list[5]) * fermions[1] * fermions[0] )"
   ]
  },
  {
   "cell_type": "code",
   "execution_count": 39,
   "metadata": {},
   "outputs": [
    {
     "data": {
      "text/latex": "Quantum object: dims = [[3, 3, 3, 3, 3, 3, 2, 2, 2], [3, 3, 3, 3, 3, 3, 2, 2, 2]], shape = (5832, 5832), type = oper, isherm = True\\begin{equation*}\\left(\\begin{array}{*{11}c}0.0 & 0.0 & 0.0 & 0.0 & 0.0 & \\cdots & 0.0 & 0.0 & 0.0 & 0.0 & 0.0\\\\0.0 & 0.0 & 0.0 & 0.0 & 0.0 & \\cdots & 0.0 & 0.0 & 0.0 & 0.0 & 0.0\\\\0.0 & 0.0 & 0.0 & 0.0 & 0.0 & \\cdots & 0.0 & 0.0 & 0.0 & 0.0 & 0.0\\\\0.0 & 0.0 & 0.0 & 0.0 & 0.0 & \\cdots & 0.0 & 0.0 & 0.0 & 0.0 & 0.0\\\\0.0 & 0.0 & 0.0 & 0.0 & 0.0 & \\cdots & 0.0 & 0.0 & 0.0 & 0.0 & 0.0\\\\\\vdots & \\vdots & \\vdots & \\vdots & \\vdots & \\ddots & \\vdots & \\vdots & \\vdots & \\vdots & \\vdots\\\\0.0 & 0.0 & 0.0 & 0.0 & 0.0 & \\cdots & 0.0 & 0.0 & 0.0 & 0.0 & 0.0\\\\0.0 & 0.0 & 0.0 & 0.0 & 0.0 & \\cdots & 0.0 & 0.0 & 0.0 & 0.0 & 0.0\\\\0.0 & 0.0 & 0.0 & 0.0 & 0.0 & \\cdots & 0.0 & 0.0 & 0.0 & 0.0 & 0.0\\\\0.0 & 0.0 & 0.0 & 0.0 & 0.0 & \\cdots & 0.0 & 0.0 & 0.0 & 0.0 & 0.0\\\\0.0 & 0.0 & 0.0 & 0.0 & 0.0 & \\cdots & 0.0 & 0.0 & 0.0 & 0.0 & 0.0\\\\\\end{array}\\right)\\end{equation*}",
      "text/plain": "Quantum object: dims = [[3, 3, 3, 3, 3, 3, 2, 2, 2], [3, 3, 3, 3, 3, 3, 2, 2, 2]], shape = (5832, 5832), type = oper, isherm = True\nQobj data =\n[[0.+0.j 0.+0.j 0.+0.j ... 0.+0.j 0.+0.j 0.+0.j]\n [0.+0.j 0.+0.j 0.+0.j ... 0.+0.j 0.+0.j 0.+0.j]\n [0.+0.j 0.+0.j 0.+0.j ... 0.+0.j 0.+0.j 0.+0.j]\n ...\n [0.+0.j 0.+0.j 0.+0.j ... 0.+0.j 0.+0.j 0.+0.j]\n [0.+0.j 0.+0.j 0.+0.j ... 0.+0.j 0.+0.j 0.+0.j]\n [0.+0.j 0.+0.j 0.+0.j ... 0.+0.j 0.+0.j 0.+0.j]]"
     },
     "execution_count": 39,
     "metadata": {},
     "output_type": "execute_result"
    }
   ],
   "source": [
    "V_bf"
   ]
  },
  {
   "cell_type": "markdown",
   "metadata": {},
   "source": [
    "### Combining the terms and adding a coupling"
   ]
  },
  {
   "cell_type": "code",
   "execution_count": 40,
   "metadata": {},
   "outputs": [],
   "source": [
    "g2N = 0.2  # this is the 't hooft coupling\n",
    "N = 2  # we fix N=2 for SU(2)\n",
    "g2 = g2N/N\n",
    "H = H_q + g2*V_b + np.sqrt(g2)*V_bf"
   ]
  },
  {
   "cell_type": "markdown",
   "metadata": {},
   "source": [
    "## Getting the eigenstates"
   ]
  },
  {
   "cell_type": "markdown",
   "metadata": {},
   "source": [
    "* Ground state of the quadratic free Hamiltonian should be zero"
   ]
  },
  {
   "cell_type": "code",
   "execution_count": 42,
   "metadata": {},
   "outputs": [
    {
     "name": "stdout",
     "output_type": "stream",
     "text": [
      "The ground state energy of the free Hamiltonian:\n",
      "[0.  1.  1.  1.  1.  1.  1.  1.5 1.5 1.5 2.  2.  2.  2.  2.  2.  2.  2.\n",
      " 2.  2. ]\n"
     ]
    }
   ],
   "source": [
    "print(\"The ground state energy of the free Hamiltonian:\")\n",
    "if L<4:\n",
    "    print(H_q.eigenenergies(eigvals=20))\n",
    "else:\n",
    "    print(H_q.eigenenergies(eigvals=20,sparse=True))"
   ]
  },
  {
   "cell_type": "code",
   "execution_count": 44,
   "metadata": {},
   "outputs": [],
   "source": [
    "if L==2:\n",
    "    eig = H.eigenenergies()\n",
    "else:   \n",
    "    eig = H.eigenenergies(eigvals=10, sparse=True)"
   ]
  },
  {
   "cell_type": "code",
   "execution_count": 45,
   "metadata": {},
   "outputs": [
    {
     "name": "stdout",
     "output_type": "stream",
     "text": [
      "The ground state energy (H): -0.0006030129665111042\n"
     ]
    }
   ],
   "source": [
    "print(f\"The ground state energy (H): {eig[0]}\")"
   ]
  },
  {
   "cell_type": "code",
   "execution_count": 47,
   "metadata": {},
   "outputs": [
    {
     "name": "stdout",
     "output_type": "stream",
     "text": [
      "The 10 lowest eigen energies at lambda=0.2: [-6.03012967e-04  1.00118494e+00  1.00118494e+00  1.00118494e+00\n",
      "  1.04289170e+00  1.04289170e+00  1.04289170e+00  1.58508857e+00\n",
      "  1.58508857e+00  1.58508857e+00]\n"
     ]
    }
   ],
   "source": [
    "print(f\"The 10 lowest eigen energies at lambda={g2N}: {eig}\")"
   ]
  },
  {
   "cell_type": "code",
   "execution_count": null,
   "metadata": {},
   "outputs": [
    {
     "data": {
      "text/plain": "[<matplotlib.lines.Line2D at 0x7f2078e8fb80>]"
     },
     "execution_count": 45,
     "metadata": {},
     "output_type": "execute_result"
    },
    {
     "data": {
      "image/png": "[encoded data removed]",
      "text/plain": "<Figure size 432x288 with 1 Axes>"
     },
     "metadata": {
      "needs_background": "light"
     },
     "output_type": "display_data"
    }
   ],
   "source": [
    "import matplotlib.pyplot as plt\n",
    "\n",
    "plt.plot(eig)"
   ]
  },
  {
   "cell_type": "markdown",
   "metadata": {},
   "source": [
    "## The gauge generator operators"
   ]
  },
  {
   "cell_type": "markdown",
   "metadata": {},
   "source": [
    "These are similar to the bosonic BMN case, but with the addition of the fermionic operators:\n",
    "\n",
    "$$ \\hat{G}_\\alpha = i\\sum_{\\beta,\\gamma}\\epsilon_{\\alpha\\beta\\gamma} \\left( \\hat{a}_{1\\beta}^\\dagger\\hat{a}_{1\\gamma} + \\hat{a}_{2\\beta}^\\dagger\\hat{a}_{2\\gamma} + \\hat{\\xi}_\\beta^\\dagger\\hat{\\xi}_\\gamma \\right).  $$"
   ]
  },
  {
   "cell_type": "markdown",
   "metadata": {},
   "source": [
    "* Save the bosonic operators in a separate list for convenience"
   ]
  },
  {
   "cell_type": "code",
   "execution_count": null,
   "metadata": {},
   "outputs": [],
   "source": [
    "bosons = op_list[:N_bos]"
   ]
  },
  {
   "cell_type": "markdown",
   "metadata": {},
   "source": [
    "* Make a list with the 3 generators"
   ]
  },
  {
   "cell_type": "code",
   "execution_count": null,
   "metadata": {},
   "outputs": [],
   "source": [
    "g_list = [0]*3\n",
    "g_list[0] = 1j * (bosons[1].dag()*bosons[2]-bosons[2].dag()*bosons[1] \\\n",
    "                 +bosons[4].dag()*bosons[5]-bosons[5].dag()*bosons[4] \\\n",
    "                 +fermions[1].dag()*fermions[2] - fermions[2].dag()*fermions[1])\n"
   ]
  },
  {
   "cell_type": "code",
   "execution_count": null,
   "metadata": {},
   "outputs": [],
   "source": [
    "g_list[1] = 1j * (bosons[2].dag()*bosons[0]-bosons[0].dag()*bosons[2] \\\n",
    "                 +bosons[5].dag()*bosons[3]-bosons[3].dag()*bosons[5] \\\n",
    "                 +fermions[2].dag()*fermions[0] - fermions[0].dag()*fermions[2])\n"
   ]
  },
  {
   "cell_type": "code",
   "execution_count": null,
   "metadata": {},
   "outputs": [],
   "source": [
    "g_list[2] = 1j * (bosons[0].dag()*bosons[1]-bosons[1].dag()*bosons[0] \\\n",
    "                 +bosons[3].dag()*bosons[4]-bosons[4].dag()*bosons[3] \\\n",
    "                 +fermions[0].dag()*fermions[1] - fermions[1].dag()*fermions[0])\n"
   ]
  },
  {
   "cell_type": "code",
   "execution_count": null,
   "metadata": {},
   "outputs": [
    {
     "data": {
      "text/latex": "Quantum object: dims = [[3, 3, 3, 3, 3, 3, 2, 2, 2], [3, 3, 3, 3, 3, 3, 2, 2, 2]], shape = (5832, 5832), type = oper, isherm = True\\begin{equation*}\\left(\\begin{array}{*{11}c}0.0 & 0.0 & 0.0 & 0.0 & 0.0 & \\cdots & 0.0 & 0.0 & 0.0 & 0.0 & 0.0\\\\0.0 & 2.0 & 0.0 & 0.0 & 0.0 & \\cdots & 0.0 & 0.0 & 0.0 & 0.0 & 0.0\\\\0.0 & 0.0 & 2.0 & 0.0 & 0.0 & \\cdots & 0.0 & 0.0 & 0.0 & 0.0 & 0.0\\\\0.0 & 0.0 & 0.0 & 2.0 & 0.0 & \\cdots & 0.0 & 0.0 & 0.0 & 0.0 & 0.0\\\\0.0 & 0.0 & 0.0 & 0.0 & 2.0 & \\cdots & 0.0 & 0.0 & 0.0 & 0.0 & 0.0\\\\\\vdots & \\vdots & \\vdots & \\vdots & \\vdots & \\ddots & \\vdots & \\vdots & \\vdots & \\vdots & \\vdots\\\\0.0 & 0.0 & 0.0 & 0.0 & 0.0 & \\cdots & 2.0 & 0.0 & 0.0 & 0.0 & 0.0\\\\0.0 & 0.0 & 0.0 & 0.0 & 0.0 & \\cdots & 0.0 & 2.0 & 0.0 & 0.0 & 0.0\\\\0.0 & 0.0 & 0.0 & 0.0 & 0.0 & \\cdots & 0.0 & 0.0 & 2.0 & 0.0 & 0.0\\\\0.0 & 0.0 & 0.0 & 0.0 & 0.0 & \\cdots & 0.0 & 0.0 & 0.0 & 2.0 & 0.0\\\\0.0 & 0.0 & 0.0 & 0.0 & 0.0 & \\cdots & 0.0 & 0.0 & 0.0 & 0.0 & 0.0\\\\\\end{array}\\right)\\end{equation*}",
      "text/plain": "Quantum object: dims = [[3, 3, 3, 3, 3, 3, 2, 2, 2], [3, 3, 3, 3, 3, 3, 2, 2, 2]], shape = (5832, 5832), type = oper, isherm = True\nQobj data =\n[[0. 0. 0. ... 0. 0. 0.]\n [0. 2. 0. ... 0. 0. 0.]\n [0. 0. 2. ... 0. 0. 0.]\n ...\n [0. 0. 0. ... 2. 0. 0.]\n [0. 0. 0. ... 0. 2. 0.]\n [0. 0. 0. ... 0. 0. 0.]]"
     },
     "execution_count": 50,
     "metadata": {},
     "output_type": "execute_result"
    }
   ],
   "source": [
    "g_sum = sum([g*g for g in g_list])\n",
    "g_sum "
   ]
  },
  {
   "cell_type": "markdown",
   "metadata": {},
   "source": [
    "### Measure the sum of the square of the operators on the groundstate"
   ]
  },
  {
   "cell_type": "code",
   "execution_count": null,
   "metadata": {},
   "outputs": [],
   "source": [
    "eigv0_H, eigk0_H = H.groundstate(sparse=True)"
   ]
  },
  {
   "cell_type": "code",
   "execution_count": null,
   "metadata": {},
   "outputs": [
    {
     "name": "stdout",
     "output_type": "stream",
     "text": [
      "The ground state energy (H): -0.0006030129665145972\n"
     ]
    }
   ],
   "source": [
    "print(f\"The ground state energy (H): {eigv0_H}\")"
   ]
  },
  {
   "cell_type": "code",
   "execution_count": null,
   "metadata": {},
   "outputs": [],
   "source": [
    "gs = expect(g_sum,eigk0_H)"
   ]
  },
  {
   "cell_type": "code",
   "execution_count": null,
   "metadata": {},
   "outputs": [
    {
     "name": "stdout",
     "output_type": "stream",
     "text": [
      "Ground state gauge singlet violation (H): 0.0004809533501861291\n"
     ]
    }
   ],
   "source": [
    "print(f\"Ground state gauge singlet violation (H): {gs}\")"
   ]
  },
  {
   "cell_type": "markdown",
   "metadata": {},
   "source": [
    "## Modified Hamiltonian: adding an energy penalty term\n",
    "\n",
    "We can change the Hamiltonian to add a term proportional to the gauge singlet constraint violation in order to penalize (with a higher energy) those states which are not gauge singlets.\n",
    "$$ \\tilde{H} = H + \\Lambda \\sum_\\alpha \\hat{G}^2_\\alpha $$"
   ]
  },
  {
   "cell_type": "code",
   "execution_count": null,
   "metadata": {},
   "outputs": [],
   "source": [
    "# we choose the penalty coefficient equal to the cutoff for the bosons\n",
    "penalty = L\n",
    "H_l = H + penalty*g_sum"
   ]
  },
  {
   "cell_type": "markdown",
   "metadata": {},
   "source": [
    "The ground state will not change much if it is gauge invariant as expected"
   ]
  },
  {
   "cell_type": "code",
   "execution_count": null,
   "metadata": {},
   "outputs": [],
   "source": [
    "eigv0_H_l, eigk0_H_l = H_l.groundstate(sparse=True)"
   ]
  },
  {
   "cell_type": "code",
   "execution_count": null,
   "metadata": {},
   "outputs": [
    {
     "name": "stdout",
     "output_type": "stream",
     "text": [
      "The ground state energy (H_l): -0.00033051820951101435\n"
     ]
    }
   ],
   "source": [
    "print(f\"The ground state energy (H_l): {eigv0_H_l}\")"
   ]
  },
  {
   "cell_type": "markdown",
   "metadata": {},
   "source": [
    "Its gauge-singlet violation should be smaller"
   ]
  },
  {
   "cell_type": "code",
   "execution_count": null,
   "metadata": {},
   "outputs": [],
   "source": [
    "gs = expect(g_sum,eigk0_H_l)"
   ]
  },
  {
   "cell_type": "code",
   "execution_count": null,
   "metadata": {},
   "outputs": [
    {
     "name": "stdout",
     "output_type": "stream",
     "text": [
      "Ground state gauge singlet violation (H_l): 2.6417848436422258e-05\n"
     ]
    }
   ],
   "source": [
    "print(f\"Ground state gauge singlet violation (H_l): {gs}\")"
   ]
  },
  {
   "cell_type": "markdown",
   "metadata": {},
   "source": [
    "## The rotation generator operators"
   ]
  },
  {
   "cell_type": "markdown",
   "metadata": {},
   "source": [
    "We need to combine the position and momentum operators of the two bosonic matrices (6 total degrees of freedom):\n",
    "\n",
    "$$ \\hat{Z} = \\frac{X_1-iX_2}{\\sqrt{2}} $$\n",
    "\n",
    "and \n",
    "\n",
    "$$\\hat{P}_Z = \\frac{\\hat{P}_1-i\\hat{P}_2}{\\sqrt{2}}$$"
   ]
  },
  {
   "cell_type": "markdown",
   "metadata": {},
   "source": [
    "### Precompute the momentum operators for the bosons, needed for the generators"
   ]
  },
  {
   "cell_type": "code",
   "execution_count": null,
   "metadata": {},
   "outputs": [],
   "source": [
    "p_list = []\n",
    "for op in op_list[:N_bos]:\n",
    "    p_list.append(1j/np.sqrt(2)*(op.dag() - op))\n"
   ]
  },
  {
   "cell_type": "markdown",
   "metadata": {},
   "source": [
    "### Precompute the combinations of position and momentum operators to manifest the SO(2) symmetry"
   ]
  },
  {
   "cell_type": "code",
   "execution_count": null,
   "metadata": {},
   "outputs": [],
   "source": [
    "z_list = [0]*3\n",
    "z_list[0] = 1/np.sqrt(2)*(x_list[0]-1j*x_list[3])\n",
    "z_list[1] = 1/np.sqrt(2)*(x_list[1]-1j*x_list[4])\n",
    "z_list[2] = 1/np.sqrt(2)*(x_list[2]-1j*x_list[5])"
   ]
  },
  {
   "cell_type": "code",
   "execution_count": null,
   "metadata": {},
   "outputs": [],
   "source": [
    "pz_list = [0]*3\n",
    "pz_list[0] = 1/np.sqrt(2)*(p_list[0]-1j*p_list[3])\n",
    "pz_list[1] = 1/np.sqrt(2)*(p_list[1]-1j*p_list[4])\n",
    "pz_list[2] = 1/np.sqrt(2)*(p_list[2]-1j*p_list[5])"
   ]
  },
  {
   "cell_type": "markdown",
   "metadata": {},
   "source": [
    "### Compute the generators for the SO(2) rotations\n",
    "\n",
    "$$\\hat{M} = \\sum_\\alpha \\big[ i(\\hat{Z}_\\alpha\\hat{P}_{Z\\alpha}^\\dagger-\\hat{Z}_\\alpha^\\dagger\\hat{P}_{Z\\alpha}) -\\frac{1}{2}\\hat{\\xi}_\\alpha^\\dagger\\hat{\\xi}_\\alpha \\big]$$"
   ]
  },
  {
   "cell_type": "code",
   "execution_count": null,
   "metadata": {},
   "outputs": [],
   "source": [
    "m_list = [0]*3\n",
    "m_list[0] = 1j*(z_list[0]*pz_list[0].dag()-z_list[0].dag()*pz_list[0]) - 0.5*fermions[0].dag()*fermions[0]\n",
    "m_list[1] = 1j*(z_list[1]*pz_list[1].dag()-z_list[1].dag()*pz_list[1]) - 0.5*fermions[1].dag()*fermions[1]\n",
    "m_list[2] = 1j*(z_list[2]*pz_list[2].dag()-z_list[2].dag()*pz_list[2]) - 0.5*fermions[2].dag()*fermions[2]"
   ]
  },
  {
   "cell_type": "code",
   "execution_count": null,
   "metadata": {},
   "outputs": [
    {
     "data": {
      "text/latex": "Quantum object: dims = [[3, 3, 3, 3, 3, 3, 2, 2, 2], [3, 3, 3, 3, 3, 3, 2, 2, 2]], shape = (5832, 5832), type = oper, isherm = True\\begin{equation*}\\left(\\begin{array}{*{11}c}0.0 & 0.0 & 0.0 & 0.0 & 0.0 & \\cdots & 0.0 & 0.0 & 0.0 & 0.0 & 0.0\\\\0.0 & 0.0 & 0.0 & 0.0 & 0.0 & \\cdots & 0.0 & 0.0 & 0.0 & 0.0 & 0.0\\\\0.0 & 0.0 & 0.0 & 0.0 & 0.0 & \\cdots & 0.0 & 0.0 & 0.0 & 0.0 & 0.0\\\\0.0 & 0.0 & 0.0 & 0.0 & 0.0 & \\cdots & 0.0 & 0.0 & 0.0 & 0.0 & 0.0\\\\0.0 & 0.0 & 0.0 & 0.0 & -1.500 & \\cdots & 0.0 & 0.0 & 0.0 & 0.0 & 0.0\\\\\\vdots & \\vdots & \\vdots & \\vdots & \\vdots & \\ddots & \\vdots & \\vdots & \\vdots & \\vdots & \\vdots\\\\0.0 & 0.0 & 0.0 & 0.0 & 0.0 & \\cdots & 0.0 & 0.0 & 0.0 & 0.0 & 0.0\\\\0.0 & 0.0 & 0.0 & 0.0 & 0.0 & \\cdots & 0.0 & -1.500 & 0.0 & 0.0 & 0.0\\\\0.0 & 0.0 & 0.0 & 0.0 & 0.0 & \\cdots & 0.0 & 0.0 & -1.500 & 0.0 & 0.0\\\\0.0 & 0.0 & 0.0 & 0.0 & 0.0 & \\cdots & 0.0 & 0.0 & 0.0 & -1.500 & 0.0\\\\0.0 & 0.0 & 0.0 & 0.0 & 0.0 & \\cdots & 0.0 & 0.0 & 0.0 & 0.0 & -1.500\\\\\\end{array}\\right)\\end{equation*}",
      "text/plain": "Quantum object: dims = [[3, 3, 3, 3, 3, 3, 2, 2, 2], [3, 3, 3, 3, 3, 3, 2, 2, 2]], shape = (5832, 5832), type = oper, isherm = True\nQobj data =\n[[ 0. +0.j  0. +0.j  0. +0.j ...  0. +0.j  0. +0.j  0. +0.j]\n [ 0. +0.j  0. +0.j  0. +0.j ...  0. +0.j  0. +0.j  0. +0.j]\n [ 0. +0.j  0. +0.j  0. +0.j ...  0. +0.j  0. +0.j  0. +0.j]\n ...\n [ 0. +0.j  0. +0.j  0. +0.j ... -1.5+0.j  0. +0.j  0. +0.j]\n [ 0. +0.j  0. +0.j  0. +0.j ...  0. +0.j -1.5+0.j  0. +0.j]\n [ 0. +0.j  0. +0.j  0. +0.j ...  0. +0.j  0. +0.j -1.5+0.j]]"
     },
     "execution_count": 64,
     "metadata": {},
     "output_type": "execute_result"
    }
   ],
   "source": [
    "m_sum = sum([m for m in m_list])\n",
    "m_sum"
   ]
  },
  {
   "cell_type": "markdown",
   "metadata": {},
   "source": [
    "### Measure the expectation value on the ground state of the unperturbed Hamiltonian"
   ]
  },
  {
   "cell_type": "code",
   "execution_count": null,
   "metadata": {},
   "outputs": [],
   "source": [
    "gm = expect(m_sum,eigk0_H)"
   ]
  },
  {
   "cell_type": "code",
   "execution_count": null,
   "metadata": {},
   "outputs": [
    {
     "name": "stdout",
     "output_type": "stream",
     "text": [
      "Ground state rotation generator value (H): -6.301514317054971e-05\n"
     ]
    }
   ],
   "source": [
    "print(f\"Ground state rotation generator value (H): {gm}\")"
   ]
  },
  {
   "cell_type": "markdown",
   "metadata": {},
   "source": [
    "### Measure $\\hat{G}^2$ and $\\hat{M}$ for the different Hamiltonians"
   ]
  },
  {
   "cell_type": "code",
   "execution_count": null,
   "metadata": {},
   "outputs": [
    {
     "name": "stdout",
     "output_type": "stream",
     "text": [
      "--- Unperturbed Hamiltonian H --- coupling lambda=0.2\n",
      "Eigenenergies: -0.0006030129665145972\n",
      "Expectation values G^2: 0.0004809533501861291\n",
      "Expectation values M: -6.301514317054971e-05\n"
     ]
    }
   ],
   "source": [
    "print(f\"--- Unperturbed Hamiltonian H --- coupling lambda={g2N}\")\n",
    "print(\"Eigenenergies:\",eigv0_H)\n",
    "print(\"Expectation values of H:\",expect(H,eigk0_H))\n",
    "print(\"Expectation values G^2:\",expect(g_sum,eigk0_H))\n",
    "print(\"Expectation values M:\",expect(m_sum,eigk0_H))"
   ]
  },
  {
   "cell_type": "code",
   "execution_count": null,
   "metadata": {},
   "outputs": [
    {
     "name": "stdout",
     "output_type": "stream",
     "text": [
      "--- Perturbed Hamiltonian H_l = H+L*G^2 --- coupling lambda=0.2\n",
      "Eigenenergies: -0.00033051820951101435\n",
      "Expectation values G^2: 2.6417848436422258e-05\n",
      "Expectation values M: -7.679359635720775e-05\n"
     ]
    }
   ],
   "source": [
    "print(f\"--- Perturbed Hamiltonian H_l = H+L*G^2 --- coupling lambda={g2N}\")\n",
    "print(\"Eigenenergies:\",eigv0_H_l)\n",
    "print(\"Expectation values of H:\",expect(H,eigk0_H_l))\n",
    "print(\"Expectation values G^2:\",expect(g_sum,eigk0_H_l))\n",
    "print(\"Expectation values M:\",expect(m_sum,eigk0_H_l))"
   ]
  },
  {
   "cell_type": "markdown",
   "metadata": {},
   "source": [
    "Look at a few lowest eigenstates for the unperturbed Hamiltonian"
   ]
  },
  {
   "cell_type": "code",
   "execution_count": null,
   "metadata": {},
   "outputs": [],
   "source": [
    "eigv_H, eigk_H = H.eigenstates(sparse=True, sort='low', eigvals=4)"
   ]
  },
  {
   "cell_type": "code",
   "execution_count": null,
   "metadata": {},
   "outputs": [
    {
     "name": "stdout",
     "output_type": "stream",
     "text": [
      "--- Unperturbed Hamiltonian H --- coupling lambda=0.2\n",
      "Eigenenergies: [-6.03012967e-04  1.00118494e+00  1.00118494e+00  1.00118494e+00]\n",
      "Expectation values G^2: [4.80953350e-04 2.00329965e+00 2.00329965e+00 2.00329965e+00]\n",
      "Expectation values M: [-6.30151432e-05 -1.00215309e+00 -1.00369992e+00 -9.91709524e-01]\n"
     ]
    }
   ],
   "source": [
    "print(f\"--- Unperturbed Hamiltonian H --- coupling lambda={g2N}\")\n",
    "print(\"Eigenenergies:\",eigv_H)\n",
    "print(\"Expectation values of H:\",expect(H,eigk_H))\n",
    "print(\"Expectation values G^2:\",expect(g_sum,eigk_H))\n",
    "print(\"Expectation values M:\",expect(m_sum,eigk_H))"
   ]
  },
  {
   "cell_type": "markdown",
   "metadata": {},
   "source": [
    "Look at a few lowest eigenstates for the perturbed Hamiltonian with $\\hat{G}^2$"
   ]
  },
  {
   "cell_type": "code",
   "execution_count": null,
   "metadata": {},
   "outputs": [],
   "source": [
    "eigv_H_l, eigk_H_l = H_l.eigenstates(sparse=True, sort='low', eigvals=4)"
   ]
  },
  {
   "cell_type": "code",
   "execution_count": null,
   "metadata": {},
   "outputs": [
    {
     "name": "stdout",
     "output_type": "stream",
     "text": [
      "--- Perturbed Hamiltonian H_l = H+L*G^2 --- coupling lambda=0.2\n",
      "Eigenenergies: [-3.30518210e-04  1.89726445e+00  1.99369774e+00  2.10530864e+00]\n",
      "Expectation values G^2: [2.64178484e-05 1.09066482e-03 5.16605973e-04 1.52593818e-03]\n",
      "Expectation values M: [-7.67935964e-05 -1.68689266e+00  1.65855282e+00 -2.40586356e-02]\n"
     ]
    }
   ],
   "source": [
    "print(f\"--- Perturbed Hamiltonian H_l = H+L*G^2 --- coupling lambda={g2N}\")\n",
    "print(\"Eigenenergies:\",eigv_H_l)\n",
    "print(\"Expectation values of H:\",expect(H,eigk_H_l))\n",
    "print(\"Expectation values G^2:\",expect(g_sum,eigk_H_l))\n",
    "print(\"Expectation values M:\",expect(m_sum,eigk_H_l))"
   ]
  },
  {
   "cell_type": "markdown",
   "metadata": {},
   "source": [
    "## Modified Hamiltonian (part II): adding a penalty term for angular momentum"
   ]
  },
  {
   "cell_type": "markdown",
   "metadata": {},
   "source": [
    "We will add a new term to the Hamiltonian:\n",
    "$$ \\hat{H}' = \\hat{H} + c\\sum_\\alpha\\hat{G}_\\alpha^2 + c' (\\hat{M}-J)^2. $$"
   ]
  },
  {
   "cell_type": "code",
   "execution_count": null,
   "metadata": {},
   "outputs": [],
   "source": [
    "# we choose the penalty coefficient equal to the cutoff for the bosons\n",
    "penalty_l = L\n",
    "penalty_m = 1\n",
    "J = 0  # {0,0.5}\n",
    "H_ml = H + penalty_l*g_sum + penalty_m*(m_sum - J)**2 "
   ]
  },
  {
   "cell_type": "code",
   "execution_count": null,
   "metadata": {},
   "outputs": [
    {
     "data": {
      "text/latex": "Quantum object: dims = [[3, 3, 3, 3, 3, 3, 2, 2, 2], [3, 3, 3, 3, 3, 3, 2, 2, 2]], shape = (5832, 5832), type = oper, isherm = True\\begin{equation*}\\left(\\begin{array}{*{11}c}0.150 & 0.0 & 0.0 & 0.0 & 0.0 & \\cdots & 0.0 & 0.0 & 0.0 & 0.0 & 0.0\\\\0.0 & 7.650 & 0.0 & 0.0 & 0.0 & \\cdots & 0.0 & 0.0 & 0.0 & 0.0 & 0.0\\\\0.0 & 0.0 & 7.650 & 0.0 & 0.0 & \\cdots & 0.0 & 0.0 & 0.0 & 0.0 & 0.0\\\\0.0 & 0.0 & 0.0 & 9.150 & 0.0 & \\cdots & 0.0 & 0.0 & 0.0 & 0.0 & 0.0\\\\0.0 & 0.0 & 0.0 & 0.0 & 9.900 & \\cdots & 0.0 & 0.0 & 0.0 & 0.0 & 0.0\\\\\\vdots & \\vdots & \\vdots & \\vdots & \\vdots & \\ddots & \\vdots & \\vdots & \\vdots & \\vdots & \\vdots\\\\0.0 & 0.0 & 0.0 & 0.0 & 0.0 & \\cdots & 21.600 & 0.0 & 0.0 & 0.0 & 0.0\\\\0.0 & 0.0 & 0.0 & 0.0 & 0.0 & \\cdots & 0.0 & 22.350 & 0.0 & 0.0 & 0.0\\\\0.0 & 0.0 & 0.0 & 0.0 & 0.0 & \\cdots & 0.0 & 0.0 & 23.850 & 0.0 & 0.0\\\\0.0 & 0.0 & 0.0 & 0.0 & 0.0 & \\cdots & 0.0 & 0.0 & 0.0 & 23.850 & 0.0\\\\0.0 & 0.0 & 0.0 & 0.0 & 0.0 & \\cdots & 0.0 & 0.0 & 0.0 & 0.0 & 19.350\\\\\\end{array}\\right)\\end{equation*}",
      "text/plain": "Quantum object: dims = [[3, 3, 3, 3, 3, 3, 2, 2, 2], [3, 3, 3, 3, 3, 3, 2, 2, 2]], shape = (5832, 5832), type = oper, isherm = True\nQobj data =\n[[ 0.15+0.j  0.  +0.j  0.  +0.j ...  0.  +0.j  0.  +0.j  0.  +0.j]\n [ 0.  +0.j  7.65+0.j  0.  +0.j ...  0.  +0.j  0.  +0.j  0.  +0.j]\n [ 0.  +0.j  0.  +0.j  7.65+0.j ...  0.  +0.j  0.  +0.j  0.  +0.j]\n ...\n [ 0.  +0.j  0.  +0.j  0.  +0.j ... 23.85+0.j  0.  +0.j  0.  +0.j]\n [ 0.  +0.j  0.  +0.j  0.  +0.j ...  0.  +0.j 23.85+0.j  0.  +0.j]\n [ 0.  +0.j  0.  +0.j  0.  +0.j ...  0.  +0.j  0.  +0.j 19.35+0.j]]"
     },
     "execution_count": 68,
     "metadata": {},
     "output_type": "execute_result"
    }
   ],
   "source": [
    "H_ml"
   ]
  },
  {
   "cell_type": "markdown",
   "metadata": {},
   "source": [
    "### Compute the ground state energy\n",
    "\n",
    "Find the lowest eigenstates and compute the expectation values of $\\hat{G}^2$ and $\\hat{M}$"
   ]
  },
  {
   "cell_type": "markdown",
   "metadata": {},
   "source": [
    "Only the groundstate"
   ]
  },
  {
   "cell_type": "code",
   "execution_count": null,
   "metadata": {},
   "outputs": [],
   "source": [
    "eigv0_H_ml, eigk0_H_ml = H_ml.groundstate(sparse=True)"
   ]
  },
  {
   "cell_type": "code",
   "execution_count": null,
   "metadata": {},
   "outputs": [
    {
     "name": "stdout",
     "output_type": "stream",
     "text": [
      "--- Perturbed Hamiltonian H_ml = H+L*G^2+M^2 --- coupling lambda=0.2\n",
      "Eigenenergies: 0.013580332986172988\n",
      "Expectation values G^2: 6.0417171978336406e-05\n",
      "Expectation values M: -0.0005576706908361649\n"
     ]
    }
   ],
   "source": [
    "print(f\"--- Perturbed Hamiltonian H_ml = H+L*G^2+M^2 --- coupling lambda={g2N}\")\n",
    "print(\"Eigenenergies:\",eigv0_H_ml)\n",
    "print(\"Expectation values of H:\",expect(H,eigk0_H_ml))\n",
    "print(\"Expectation values G^2:\",expect(g_sum,eigk0_H_ml))\n",
    "print(\"Expectation values M:\",expect(m_sum,eigk0_H_ml))"
   ]
  },
  {
   "cell_type": "markdown",
   "metadata": {},
   "source": [
    "The 4 lowest eigenstates"
   ]
  },
  {
   "cell_type": "code",
   "execution_count": null,
   "metadata": {},
   "outputs": [],
   "source": [
    "eigv_H_ml, eigk_H_ml = H_ml.eigenstates(sparse=True, sort='low', eigvals=4)"
   ]
  },
  {
   "cell_type": "code",
   "execution_count": null,
   "metadata": {},
   "outputs": [
    {
     "name": "stdout",
     "output_type": "stream",
     "text": [
      "--- Perturbed Hamiltonian H_ml = H+L*G^2+M^2 --- coupling lambda=0.2\n",
      "Eigenenergies: [0.01358033 2.14710217 3.34122335 4.13706044]\n",
      "Expectation values G^2: [6.04171720e-05 2.19514709e-03 2.53554747e-03 9.36086506e-03]\n",
      "Expectation values M: [-0.00055767 -0.0026139   0.47264974 -0.00826359]\n"
     ]
    }
   ],
   "source": [
    "print(f\"--- Perturbed Hamiltonian H_ml = H+L*G^2+M^2 --- coupling lambda={g2N}\")\n",
    "print(\"Eigenenergies:\",eigv_H_ml)\n",
    "print(\"Expectation values of H:\",expect(H,eigk_H_ml))\n",
    "print(\"Expectation values G^2:\",expect(g_sum,eigk_H_ml))\n",
    "print(\"Expectation values M:\",expect(m_sum,eigk_H_ml))"
   ]
  }
 ],
 "metadata": {
  "kernelspec": {
   "display_name": "Python 3.9.2 64-bit ('qutip': conda)",
   "name": "python392jvsc74a57bd01709f4256c23dfb8cee10de6c650a6ac409f8c1e5d8e2880b813e5efe3b1c673"
  },
  "language_info": {
   "name": "python",
   "version": ""
  },
  "orig_nbformat": 2
 },
 "nbformat": 4,
 "nbformat_minor": 2
}