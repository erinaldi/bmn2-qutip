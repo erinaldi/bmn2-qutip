{
 "cells": [
  {
   "cell_type": "markdown",
   "metadata": {},
   "source": [
    "# Plots for the bosonic BMN2 results"
   ]
  },
  {
   "cell_type": "code",
   "execution_count": 44,
   "metadata": {},
   "outputs": [],
   "source": [
    "import pandas as pd\n",
    "import numpy as np\n",
    "import matplotlib.pyplot as plt"
   ]
  },
  {
   "cell_type": "markdown",
   "metadata": {},
   "source": [
    "## Load data at fixed coupling\n",
    "\n",
    "The `csv` files contain the energy expectation values $\\langle E | \\hat{H} | E \\rangle$ and the gauge generators expectation values $\\langle E | \\sum_{\\alpha=1}^{3} \\hat{G}^2_{\\alpha} | E \\rangle$ \n",
    "\n",
    "* The Hamiltonian $\\hat{H}$ is the one of the bosonic BMN2 system with coupling $\\lambda=g^2N$ and with truncated operators with cutoff $\\Lambda$\n",
    "* The states $|E\\rangle$ are the eigenstates of $\\hat{H}$\n",
    "* The states $|E'\\rangle$ are the eigenstates ot $\\hat{H}' = \\hat{H} + \\Lambda \\sum_{\\alpha=1}^{3} \\hat{G}^2_{\\alpha}$"
   ]
  },
  {
   "cell_type": "code",
   "execution_count": 93,
   "metadata": {},
   "outputs": [],
   "source": [
    "gs = pd.read_csv('l02_gs_many.csv', header=0, dtype={\"Penalty\": int, \"Lambda\": int})\n",
    "gv = pd.read_csv('l02_gv_many.csv', header=0, dtype={\"Penalty\": int, \"Lambda\": int})"
   ]
  },
  {
   "cell_type": "code",
   "execution_count": 46,
   "metadata": {},
   "outputs": [],
   "source": [
    "# coupling constant. We only have one for now\n",
    "l = gs[\"Coupling\"].unique()[0]"
   ]
  },
  {
   "cell_type": "code",
   "execution_count": 47,
   "metadata": {},
   "outputs": [
    {
     "data": {
      "text/plain": [
       "<AxesSubplot:xlabel='Lambda'>"
      ]
     },
     "execution_count": 47,
     "metadata": {},
     "output_type": "execute_result"
    },
    {
     "data": {
      "image/png": "[encoded data removed]",
      "text/plain": [
       "<Figure size 432x288 with 1 Axes>"
      ]
     },
     "metadata": {
      "needs_background": "light"
     },
     "output_type": "display_data"
    }
   ],
   "source": [
    "gs.query(\"Penalty == 0\").plot(x=\"Lambda\", y=\"Energy0\", marker=\"o\", label=rf\"$\\lambda$={l}\")"
   ]
  },
  {
   "cell_type": "code",
   "execution_count": 41,
   "metadata": {},
   "outputs": [
    {
     "data": {
      "text/plain": [
       "<AxesSubplot:xlabel='Lambda'>"
      ]
     },
     "execution_count": 41,
     "metadata": {},
     "output_type": "execute_result"
    },
    {
     "data": {
      "image/png": "[encoded data removed]",
      "text/plain": [
       "<Figure size 432x288 with 1 Axes>"
      ]
     },
     "metadata": {
      "needs_background": "light"
     },
     "output_type": "display_data"
    }
   ],
   "source": [
    "gv.query(\"Penalty == 0\").plot(x=\"Lambda\", y=\"GaugeViolation0\", marker=\"o\", logy=True, label=rf\"$\\lambda$={l}\")"
   ]
  },
  {
   "cell_type": "markdown",
   "metadata": {},
   "source": [
    "## Plot the energy expectation values"
   ]
  },
  {
   "cell_type": "code",
   "execution_count": 51,
   "metadata": {},
   "outputs": [],
   "source": [
    "from matplotlib.ticker import IndexLocator\n",
    "\n",
    "def plot_energies(energies, n=20):\n",
    "    fig, ax = plt.subplots()\n",
    "    for L in energies.Lambda:\n",
    "        data = energies.query(\"Lambda == @L\").iloc[0,1:(n+1)]\n",
    "        # n eigenvalues\n",
    "        x = np.arange(0,n)\n",
    "        y = data.values\n",
    "        ax.plot(x,y, label=rf\"$\\Lambda=${L}\")\n",
    "    ax.grid()\n",
    "    ax.set_xlabel(\"eigenvalue\")\n",
    "    ax.xaxis.set_major_locator(IndexLocator(1,0))\n",
    "    ax.set_ylabel(r\"$E$\", rotation=90)\n",
    "    # ax.set_xlabel(r\"$\\Lambda$\")\n",
    "    ax.legend(loc=\"lower right\")"
   ]
  },
  {
   "cell_type": "markdown",
   "metadata": {},
   "source": [
    "### Eigenvalues when the eigenstates are obtained from $\\hat{H}$"
   ]
  },
  {
   "cell_type": "code",
   "execution_count": 43,
   "metadata": {},
   "outputs": [
    {
     "data": {
      "text/html": [
       "<div>\n",
       "<style scoped>\n",
       "    .dataframe tbody tr th:only-of-type {\n",
       "        vertical-align: middle;\n",
       "    }\n",
       "\n",
       "    .dataframe tbody tr th {\n",
       "        vertical-align: top;\n",
       "    }\n",
       "\n",
       "    .dataframe thead th {\n",
       "        text-align: right;\n",
       "    }\n",
       "</style>\n",
       "<table border=\"1\" class=\"dataframe\">\n",
       "  <thead>\n",
       "    <tr style=\"text-align: right;\">\n",
       "      <th></th>\n",
       "      <th>Lambda</th>\n",
       "      <th>Energy0</th>\n",
       "      <th>Energy1</th>\n",
       "      <th>Energy2</th>\n",
       "      <th>Energy3</th>\n",
       "      <th>Energy4</th>\n",
       "      <th>Energy5</th>\n",
       "      <th>Energy6</th>\n",
       "      <th>Energy7</th>\n",
       "      <th>Energy8</th>\n",
       "      <th>...</th>\n",
       "      <th>Energy10</th>\n",
       "      <th>Energy11</th>\n",
       "      <th>Energy12</th>\n",
       "      <th>Energy13</th>\n",
       "      <th>Energy14</th>\n",
       "      <th>Energy15</th>\n",
       "      <th>Energy16</th>\n",
       "      <th>Energy17</th>\n",
       "      <th>Energy18</th>\n",
       "      <th>Energy19</th>\n",
       "    </tr>\n",
       "  </thead>\n",
       "  <tbody>\n",
       "    <tr>\n",
       "      <th>0</th>\n",
       "      <td>3</td>\n",
       "      <td>3.132305</td>\n",
       "      <td>4.219673</td>\n",
       "      <td>4.219673</td>\n",
       "      <td>4.219673</td>\n",
       "      <td>4.219673</td>\n",
       "      <td>4.219673</td>\n",
       "      <td>4.219673</td>\n",
       "      <td>5.087531</td>\n",
       "      <td>5.133035</td>\n",
       "      <td>...</td>\n",
       "      <td>5.229573</td>\n",
       "      <td>5.229573</td>\n",
       "      <td>5.233168</td>\n",
       "      <td>5.262656</td>\n",
       "      <td>5.265077</td>\n",
       "      <td>5.265077</td>\n",
       "      <td>5.265077</td>\n",
       "      <td>5.335795</td>\n",
       "      <td>5.335795</td>\n",
       "      <td>5.335795</td>\n",
       "    </tr>\n",
       "    <tr>\n",
       "      <th>1</th>\n",
       "      <td>5</td>\n",
       "      <td>3.133908</td>\n",
       "      <td>4.215774</td>\n",
       "      <td>4.215774</td>\n",
       "      <td>4.215774</td>\n",
       "      <td>4.215774</td>\n",
       "      <td>4.215774</td>\n",
       "      <td>4.215774</td>\n",
       "      <td>5.216718</td>\n",
       "      <td>5.219716</td>\n",
       "      <td>...</td>\n",
       "      <td>5.252896</td>\n",
       "      <td>5.255372</td>\n",
       "      <td>5.255372</td>\n",
       "      <td>5.255372</td>\n",
       "      <td>5.330605</td>\n",
       "      <td>5.330605</td>\n",
       "      <td>5.332113</td>\n",
       "      <td>5.332113</td>\n",
       "      <td>5.332113</td>\n",
       "      <td>5.332165</td>\n",
       "    </tr>\n",
       "    <tr>\n",
       "      <th>2</th>\n",
       "      <td>7</td>\n",
       "      <td>3.133925</td>\n",
       "      <td>4.215738</td>\n",
       "      <td>4.215738</td>\n",
       "      <td>4.215738</td>\n",
       "      <td>4.215738</td>\n",
       "      <td>4.215738</td>\n",
       "      <td>4.215738</td>\n",
       "      <td>5.219478</td>\n",
       "      <td>5.219540</td>\n",
       "      <td>...</td>\n",
       "      <td>5.255244</td>\n",
       "      <td>5.255291</td>\n",
       "      <td>5.255291</td>\n",
       "      <td>5.255291</td>\n",
       "      <td>5.332142</td>\n",
       "      <td>5.332142</td>\n",
       "      <td>5.332163</td>\n",
       "      <td>5.332163</td>\n",
       "      <td>5.332163</td>\n",
       "      <td>5.332165</td>\n",
       "    </tr>\n",
       "  </tbody>\n",
       "</table>\n",
       "<p>3 rows × 21 columns</p>\n",
       "</div>"
      ],
      "text/plain": [
       "   Lambda   Energy0   Energy1   Energy2   Energy3   Energy4   Energy5  \\\n",
       "0       3  3.132305  4.219673  4.219673  4.219673  4.219673  4.219673   \n",
       "1       5  3.133908  4.215774  4.215774  4.215774  4.215774  4.215774   \n",
       "2       7  3.133925  4.215738  4.215738  4.215738  4.215738  4.215738   \n",
       "\n",
       "    Energy6   Energy7   Energy8  ...  Energy10  Energy11  Energy12  Energy13  \\\n",
       "0  4.219673  5.087531  5.133035  ...  5.229573  5.229573  5.233168  5.262656   \n",
       "1  4.215774  5.216718  5.219716  ...  5.252896  5.255372  5.255372  5.255372   \n",
       "2  4.215738  5.219478  5.219540  ...  5.255244  5.255291  5.255291  5.255291   \n",
       "\n",
       "   Energy14  Energy15  Energy16  Energy17  Energy18  Energy19  \n",
       "0  5.265077  5.265077  5.265077  5.335795  5.335795  5.335795  \n",
       "1  5.330605  5.330605  5.332113  5.332113  5.332113  5.332165  \n",
       "2  5.332142  5.332142  5.332163  5.332163  5.332163  5.332165  \n",
       "\n",
       "[3 rows x 21 columns]"
      ]
     },
     "execution_count": 43,
     "metadata": {},
     "output_type": "execute_result"
    }
   ],
   "source": [
    "eigs = gs.query(\"Penalty == 0\").iloc[:,2:]\n",
    "eigs"
   ]
  },
  {
   "cell_type": "code",
   "execution_count": 56,
   "metadata": {},
   "outputs": [
    {
     "data": {
      "image/png": "[encoded data removed]",
      "text/plain": [
       "<Figure size 432x288 with 1 Axes>"
      ]
     },
     "metadata": {
      "needs_background": "light"
     },
     "output_type": "display_data"
    }
   ],
   "source": [
    "plot_energies(eigs,20)\n"
   ]
  },
  {
   "cell_type": "markdown",
   "metadata": {},
   "source": [
    "### Eigenvalues when the eigenstates are obtained from $\\hat{H}'$"
   ]
  },
  {
   "cell_type": "code",
   "execution_count": 35,
   "metadata": {},
   "outputs": [
    {
     "data": {
      "text/html": [
       "<div>\n",
       "<style scoped>\n",
       "    .dataframe tbody tr th:only-of-type {\n",
       "        vertical-align: middle;\n",
       "    }\n",
       "\n",
       "    .dataframe tbody tr th {\n",
       "        vertical-align: top;\n",
       "    }\n",
       "\n",
       "    .dataframe thead th {\n",
       "        text-align: right;\n",
       "    }\n",
       "</style>\n",
       "<table border=\"1\" class=\"dataframe\">\n",
       "  <thead>\n",
       "    <tr style=\"text-align: right;\">\n",
       "      <th></th>\n",
       "      <th>Lambda</th>\n",
       "      <th>Energy0</th>\n",
       "      <th>Energy1</th>\n",
       "      <th>Energy2</th>\n",
       "      <th>Energy3</th>\n",
       "      <th>Energy4</th>\n",
       "      <th>Energy5</th>\n",
       "      <th>Energy6</th>\n",
       "      <th>Energy7</th>\n",
       "      <th>Energy8</th>\n",
       "      <th>...</th>\n",
       "      <th>Energy10</th>\n",
       "      <th>Energy11</th>\n",
       "      <th>Energy12</th>\n",
       "      <th>Energy13</th>\n",
       "      <th>Energy14</th>\n",
       "      <th>Energy15</th>\n",
       "      <th>Energy16</th>\n",
       "      <th>Energy17</th>\n",
       "      <th>Energy18</th>\n",
       "      <th>Energy19</th>\n",
       "    </tr>\n",
       "  </thead>\n",
       "  <tbody>\n",
       "    <tr>\n",
       "      <th>3</th>\n",
       "      <td>3</td>\n",
       "      <td>3.132349</td>\n",
       "      <td>5.087968</td>\n",
       "      <td>5.241913</td>\n",
       "      <td>5.264302</td>\n",
       "      <td>7.066203</td>\n",
       "      <td>7.228764</td>\n",
       "      <td>7.234682</td>\n",
       "      <td>7.574414</td>\n",
       "      <td>9.143657</td>\n",
       "      <td>...</td>\n",
       "      <td>9.266154</td>\n",
       "      <td>9.338778</td>\n",
       "      <td>9.500625</td>\n",
       "      <td>4.224527</td>\n",
       "      <td>4.224527</td>\n",
       "      <td>4.224527</td>\n",
       "      <td>4.224527</td>\n",
       "      <td>4.224527</td>\n",
       "      <td>4.224527</td>\n",
       "      <td>11.237215</td>\n",
       "    </tr>\n",
       "    <tr>\n",
       "      <th>4</th>\n",
       "      <td>5</td>\n",
       "      <td>3.133910</td>\n",
       "      <td>5.217006</td>\n",
       "      <td>5.219966</td>\n",
       "      <td>5.356479</td>\n",
       "      <td>7.236652</td>\n",
       "      <td>7.328839</td>\n",
       "      <td>7.338266</td>\n",
       "      <td>7.345103</td>\n",
       "      <td>7.442564</td>\n",
       "      <td>...</td>\n",
       "      <td>9.271182</td>\n",
       "      <td>9.395736</td>\n",
       "      <td>9.397563</td>\n",
       "      <td>9.459155</td>\n",
       "      <td>9.489882</td>\n",
       "      <td>9.861132</td>\n",
       "      <td>10.253354</td>\n",
       "      <td>10.342069</td>\n",
       "      <td>11.315109</td>\n",
       "      <td>11.411153</td>\n",
       "    </tr>\n",
       "    <tr>\n",
       "      <th>5</th>\n",
       "      <td>7</td>\n",
       "      <td>3.133925</td>\n",
       "      <td>5.219488</td>\n",
       "      <td>5.219546</td>\n",
       "      <td>5.357606</td>\n",
       "      <td>7.301123</td>\n",
       "      <td>7.303631</td>\n",
       "      <td>7.382238</td>\n",
       "      <td>7.420971</td>\n",
       "      <td>7.423740</td>\n",
       "      <td>...</td>\n",
       "      <td>9.360404</td>\n",
       "      <td>9.405902</td>\n",
       "      <td>9.424183</td>\n",
       "      <td>9.436082</td>\n",
       "      <td>9.514024</td>\n",
       "      <td>9.528954</td>\n",
       "      <td>9.532637</td>\n",
       "      <td>10.009497</td>\n",
       "      <td>10.044401</td>\n",
       "      <td>10.450610</td>\n",
       "    </tr>\n",
       "  </tbody>\n",
       "</table>\n",
       "<p>3 rows × 21 columns</p>\n",
       "</div>"
      ],
      "text/plain": [
       "   Lambda   Energy0   Energy1   Energy2   Energy3   Energy4   Energy5  \\\n",
       "3       3  3.132349  5.087968  5.241913  5.264302  7.066203  7.228764   \n",
       "4       5  3.133910  5.217006  5.219966  5.356479  7.236652  7.328839   \n",
       "5       7  3.133925  5.219488  5.219546  5.357606  7.301123  7.303631   \n",
       "\n",
       "    Energy6   Energy7   Energy8  ...  Energy10  Energy11  Energy12  Energy13  \\\n",
       "3  7.234682  7.574414  9.143657  ...  9.266154  9.338778  9.500625  4.224527   \n",
       "4  7.338266  7.345103  7.442564  ...  9.271182  9.395736  9.397563  9.459155   \n",
       "5  7.382238  7.420971  7.423740  ...  9.360404  9.405902  9.424183  9.436082   \n",
       "\n",
       "   Energy14  Energy15   Energy16   Energy17   Energy18   Energy19  \n",
       "3  4.224527  4.224527   4.224527   4.224527   4.224527  11.237215  \n",
       "4  9.489882  9.861132  10.253354  10.342069  11.315109  11.411153  \n",
       "5  9.514024  9.528954   9.532637  10.009497  10.044401  10.450610  \n",
       "\n",
       "[3 rows x 21 columns]"
      ]
     },
     "execution_count": 35,
     "metadata": {},
     "output_type": "execute_result"
    }
   ],
   "source": [
    "eigsp = gs.query(\"Penalty > 0\").iloc[:,2:]\n",
    "eigsp"
   ]
  },
  {
   "cell_type": "code",
   "execution_count": 55,
   "metadata": {},
   "outputs": [
    {
     "data": {
      "image/png": "[encoded data removed]",
      "text/plain": [
       "<Figure size 432x288 with 1 Axes>"
      ]
     },
     "metadata": {
      "needs_background": "light"
     },
     "output_type": "display_data"
    }
   ],
   "source": [
    "plot_energies(eigsp,20)"
   ]
  },
  {
   "cell_type": "markdown",
   "metadata": {},
   "source": [
    "Some eigenstates of $\\hat{H}'$ where pushed to a higher energy than they would have had if they came from $\\hat{H}$. That also depends on the cutoff."
   ]
  },
  {
   "cell_type": "markdown",
   "metadata": {},
   "source": [
    "### Plot the gauge constraint violation"
   ]
  },
  {
   "cell_type": "code",
   "execution_count": 61,
   "metadata": {},
   "outputs": [
    {
     "data": {
      "text/plain": [
       "<matplotlib.legend.Legend at 0x7ff032f382e0>"
      ]
     },
     "execution_count": 61,
     "metadata": {},
     "output_type": "execute_result"
    },
    {
     "data": {
      "image/png": "[encoded data removed]",
      "text/plain": [
       "<Figure size 432x288 with 1 Axes>"
      ]
     },
     "metadata": {
      "needs_background": "light"
     },
     "output_type": "display_data"
    }
   ],
   "source": [
    "from matplotlib.ticker import FixedLocator\n",
    "\n",
    "fig, ax = plt.subplots()\n",
    "gv.query(\"Penalty == 0\").plot(x=\"Lambda\", y=\"GaugeViolation0\", logy=True, marker=\"o\", label=\"c=0\", ax=ax)\n",
    "gv.query(\"Penalty > 0\").plot(x=\"Lambda\", y=\"GaugeViolation0\", logy=True, marker=\"o\", label=r\"c=$\\Lambda$\", ax=ax)\n",
    "ax.grid()\n",
    "ax.set_xlabel(r\"$\\Lambda$\")\n",
    "ax.xaxis.set_major_locator(FixedLocator([3,5,7]))\n",
    "ax.set_ylabel(r\"$G^2$\", rotation=90)\n",
    "ax.legend(loc=\"upper right\")"
   ]
  },
  {
   "cell_type": "code",
   "execution_count": 62,
   "metadata": {},
   "outputs": [],
   "source": [
    "from matplotlib.ticker import IndexLocator\n",
    "\n",
    "def plot_gauge(gauge, n=20):\n",
    "    fig, ax = plt.subplots()\n",
    "    for L in gauge.Lambda:\n",
    "        data = gauge.query(\"Lambda == @L\").iloc[0,1:(n+1)]\n",
    "        # n eigenvalues\n",
    "        x = np.arange(0,n)\n",
    "        y = data.values\n",
    "        ax.plot(x,y, label=rf\"$\\Lambda=${L}\")\n",
    "    ax.grid()\n",
    "    ax.set_yscale('log')\n",
    "    ax.set_xlabel(\"eigenvalue\")\n",
    "    ax.xaxis.set_major_locator(IndexLocator(1,0))\n",
    "    ax.set_ylabel(r\"$G^2$\", rotation=90)\n",
    "    ax.legend(loc=\"upper right\")"
   ]
  },
  {
   "cell_type": "markdown",
   "metadata": {},
   "source": [
    "### Without $G^2$ penalty"
   ]
  },
  {
   "cell_type": "code",
   "execution_count": 63,
   "metadata": {},
   "outputs": [
    {
     "data": {
      "text/html": [
       "<div>\n",
       "<style scoped>\n",
       "    .dataframe tbody tr th:only-of-type {\n",
       "        vertical-align: middle;\n",
       "    }\n",
       "\n",
       "    .dataframe tbody tr th {\n",
       "        vertical-align: top;\n",
       "    }\n",
       "\n",
       "    .dataframe thead th {\n",
       "        text-align: right;\n",
       "    }\n",
       "</style>\n",
       "<table border=\"1\" class=\"dataframe\">\n",
       "  <thead>\n",
       "    <tr style=\"text-align: right;\">\n",
       "      <th></th>\n",
       "      <th>Lambda</th>\n",
       "      <th>GaugeViolation0</th>\n",
       "      <th>GaugeViolation1</th>\n",
       "      <th>GaugeViolation2</th>\n",
       "      <th>GaugeViolation3</th>\n",
       "      <th>GaugeViolation4</th>\n",
       "      <th>GaugeViolation5</th>\n",
       "      <th>GaugeViolation6</th>\n",
       "      <th>GaugeViolation7</th>\n",
       "      <th>GaugeViolation8</th>\n",
       "      <th>...</th>\n",
       "      <th>GaugeViolation10</th>\n",
       "      <th>GaugeViolation11</th>\n",
       "      <th>GaugeViolation12</th>\n",
       "      <th>GaugeViolation13</th>\n",
       "      <th>GaugeViolation14</th>\n",
       "      <th>GaugeViolation15</th>\n",
       "      <th>GaugeViolation16</th>\n",
       "      <th>GaugeViolation17</th>\n",
       "      <th>GaugeViolation18</th>\n",
       "      <th>GaugeViolation19</th>\n",
       "    </tr>\n",
       "  </thead>\n",
       "  <tbody>\n",
       "    <tr>\n",
       "      <th>0</th>\n",
       "      <td>3</td>\n",
       "      <td>2.242938e-04</td>\n",
       "      <td>2.006097</td>\n",
       "      <td>2.006097</td>\n",
       "      <td>2.006097</td>\n",
       "      <td>2.006097</td>\n",
       "      <td>2.006097</td>\n",
       "      <td>2.006097</td>\n",
       "      <td>0.001181</td>\n",
       "      <td>6.003545</td>\n",
       "      <td>...</td>\n",
       "      <td>6.000094</td>\n",
       "      <td>6.000094</td>\n",
       "      <td>0.044634</td>\n",
       "      <td>0.014320</td>\n",
       "      <td>6.005928</td>\n",
       "      <td>6.005928</td>\n",
       "      <td>6.005928</td>\n",
       "      <td>6.003716</td>\n",
       "      <td>6.003716</td>\n",
       "      <td>6.003716</td>\n",
       "    </tr>\n",
       "    <tr>\n",
       "      <th>1</th>\n",
       "      <td>5</td>\n",
       "      <td>4.511062e-06</td>\n",
       "      <td>2.000098</td>\n",
       "      <td>2.000098</td>\n",
       "      <td>2.000098</td>\n",
       "      <td>2.000098</td>\n",
       "      <td>2.000098</td>\n",
       "      <td>2.000098</td>\n",
       "      <td>0.001369</td>\n",
       "      <td>0.000423</td>\n",
       "      <td>...</td>\n",
       "      <td>6.000563</td>\n",
       "      <td>6.000356</td>\n",
       "      <td>6.000356</td>\n",
       "      <td>6.000356</td>\n",
       "      <td>6.000354</td>\n",
       "      <td>6.000354</td>\n",
       "      <td>6.000297</td>\n",
       "      <td>6.000297</td>\n",
       "      <td>6.000297</td>\n",
       "      <td>5.999148</td>\n",
       "    </tr>\n",
       "    <tr>\n",
       "      <th>2</th>\n",
       "      <td>7</td>\n",
       "      <td>8.765031e-08</td>\n",
       "      <td>2.000002</td>\n",
       "      <td>2.000002</td>\n",
       "      <td>2.000002</td>\n",
       "      <td>2.000002</td>\n",
       "      <td>2.000002</td>\n",
       "      <td>2.000002</td>\n",
       "      <td>0.000025</td>\n",
       "      <td>0.000007</td>\n",
       "      <td>...</td>\n",
       "      <td>6.000014</td>\n",
       "      <td>6.000006</td>\n",
       "      <td>6.000006</td>\n",
       "      <td>6.000006</td>\n",
       "      <td>6.000007</td>\n",
       "      <td>6.000007</td>\n",
       "      <td>6.000005</td>\n",
       "      <td>6.000005</td>\n",
       "      <td>6.000005</td>\n",
       "      <td>5.999985</td>\n",
       "    </tr>\n",
       "  </tbody>\n",
       "</table>\n",
       "<p>3 rows × 21 columns</p>\n",
       "</div>"
      ],
      "text/plain": [
       "   Lambda  GaugeViolation0  GaugeViolation1  GaugeViolation2  GaugeViolation3  \\\n",
       "0       3     2.242938e-04         2.006097         2.006097         2.006097   \n",
       "1       5     4.511062e-06         2.000098         2.000098         2.000098   \n",
       "2       7     8.765031e-08         2.000002         2.000002         2.000002   \n",
       "\n",
       "   GaugeViolation4  GaugeViolation5  GaugeViolation6  GaugeViolation7  \\\n",
       "0         2.006097         2.006097         2.006097         0.001181   \n",
       "1         2.000098         2.000098         2.000098         0.001369   \n",
       "2         2.000002         2.000002         2.000002         0.000025   \n",
       "\n",
       "   GaugeViolation8  ...  GaugeViolation10  GaugeViolation11  GaugeViolation12  \\\n",
       "0         6.003545  ...          6.000094          6.000094          0.044634   \n",
       "1         0.000423  ...          6.000563          6.000356          6.000356   \n",
       "2         0.000007  ...          6.000014          6.000006          6.000006   \n",
       "\n",
       "   GaugeViolation13  GaugeViolation14  GaugeViolation15  GaugeViolation16  \\\n",
       "0          0.014320          6.005928          6.005928          6.005928   \n",
       "1          6.000356          6.000354          6.000354          6.000297   \n",
       "2          6.000006          6.000007          6.000007          6.000005   \n",
       "\n",
       "   GaugeViolation17  GaugeViolation18  GaugeViolation19  \n",
       "0          6.003716          6.003716          6.003716  \n",
       "1          6.000297          6.000297          5.999148  \n",
       "2          6.000005          6.000005          5.999985  \n",
       "\n",
       "[3 rows x 21 columns]"
      ]
     },
     "execution_count": 63,
     "metadata": {},
     "output_type": "execute_result"
    }
   ],
   "source": [
    "eigs = gv.query(\"Penalty == 0\").iloc[:,2:]\n",
    "eigs"
   ]
  },
  {
   "cell_type": "code",
   "execution_count": 64,
   "metadata": {},
   "outputs": [
    {
     "data": {
      "image/png": "[encoded data removed]",
      "text/plain": [
       "<Figure size 432x288 with 1 Axes>"
      ]
     },
     "metadata": {
      "needs_background": "light"
     },
     "output_type": "display_data"
    }
   ],
   "source": [
    "plot_gauge(eigs)"
   ]
  },
  {
   "cell_type": "markdown",
   "metadata": {},
   "source": [
    "Maybe not all the smallest $G^2$ values are included in the first 20 eigenvalues. We have done a search on 100 eigenstates for $\\Lambda=4$ and we had to change the `sparse=True` option of the solver and do it exactly so that we could handle all degeneracies."
   ]
  },
  {
   "cell_type": "code",
   "execution_count": 230,
   "metadata": {},
   "outputs": [],
   "source": [
    "dd = np.loadtxt('l02_L4_100.csv', delimiter=\",\")\n",
    "# with no penalty\n",
    "energies = dd[0]\n",
    "gauge = dd[1]\n",
    "df = pd.DataFrame(columns=[\"Energy\",\"Gauge\"])\n",
    "df[\"Energy\"] = energies\n",
    "df[\"Gauge\"] = gauge\n",
    "# with penalty\n",
    "energies = dd[2]\n",
    "gauge = dd[3]\n",
    "dfp = pd.DataFrame(columns=[\"Energy\",\"Gauge\"])\n",
    "dfp[\"Energy\"] = energies\n",
    "dfp[\"Gauge\"] = gauge\n"
   ]
  },
  {
   "cell_type": "code",
   "execution_count": 231,
   "metadata": {},
   "outputs": [
    {
     "data": {
      "text/plain": [
       "<matplotlib.legend.Legend at 0x7ff03166c400>"
      ]
     },
     "execution_count": 231,
     "metadata": {},
     "output_type": "execute_result"
    },
    {
     "data": {
      "image/png": "[encoded data removed]",
      "text/plain": [
       "<Figure size 432x288 with 1 Axes>"
      ]
     },
     "metadata": {
      "needs_background": "light"
     },
     "output_type": "display_data"
    }
   ],
   "source": [
    "fig, ax = plt.subplots()\n",
    "L = 4\n",
    "n = 100\n",
    "data = df[\"Gauge\"]\n",
    "# n eigenvalues\n",
    "x = np.arange(0,n)\n",
    "y = data.iloc[:n].values\n",
    "ax.plot(x,y, label=rf\"$\\Lambda=${L}\")\n",
    "ax.grid()\n",
    "ax.set_yscale('log')\n",
    "ax.set_xlabel(\"eigenvalue\")\n",
    "ax.xaxis.set_major_locator(IndexLocator(5,0))\n",
    "ax.set_ylabel(r\"$G^2$\", rotation=90)\n",
    "ax.legend(loc=\"upper right\")"
   ]
  },
  {
   "cell_type": "markdown",
   "metadata": {},
   "source": [
    "The eigenstates with the smallest value of $G^2$"
   ]
  },
  {
   "cell_type": "code",
   "execution_count": 232,
   "metadata": {},
   "outputs": [
    {
     "data": {
      "text/html": [
       "<div>\n",
       "<style scoped>\n",
       "    .dataframe tbody tr th:only-of-type {\n",
       "        vertical-align: middle;\n",
       "    }\n",
       "\n",
       "    .dataframe tbody tr th {\n",
       "        vertical-align: top;\n",
       "    }\n",
       "\n",
       "    .dataframe thead th {\n",
       "        text-align: right;\n",
       "    }\n",
       "</style>\n",
       "<table border=\"1\" class=\"dataframe\">\n",
       "  <thead>\n",
       "    <tr style=\"text-align: right;\">\n",
       "      <th></th>\n",
       "      <th>Energy</th>\n",
       "      <th>Gauge</th>\n",
       "    </tr>\n",
       "  </thead>\n",
       "  <tbody>\n",
       "    <tr>\n",
       "      <th>0</th>\n",
       "      <td>3.134063</td>\n",
       "      <td>0.000184</td>\n",
       "    </tr>\n",
       "    <tr>\n",
       "      <th>7</th>\n",
       "      <td>5.217642</td>\n",
       "      <td>0.001662</td>\n",
       "    </tr>\n",
       "    <tr>\n",
       "      <th>24</th>\n",
       "      <td>5.366389</td>\n",
       "      <td>0.028882</td>\n",
       "    </tr>\n",
       "    <tr>\n",
       "      <th>8</th>\n",
       "      <td>5.236170</td>\n",
       "      <td>0.043901</td>\n",
       "    </tr>\n",
       "    <tr>\n",
       "      <th>84</th>\n",
       "      <td>7.191393</td>\n",
       "      <td>0.508276</td>\n",
       "    </tr>\n",
       "  </tbody>\n",
       "</table>\n",
       "</div>"
      ],
      "text/plain": [
       "      Energy     Gauge\n",
       "0   3.134063  0.000184\n",
       "7   5.217642  0.001662\n",
       "24  5.366389  0.028882\n",
       "8   5.236170  0.043901\n",
       "84  7.191393  0.508276"
      ]
     },
     "execution_count": 232,
     "metadata": {},
     "output_type": "execute_result"
    }
   ],
   "source": [
    "df.nsmallest(5,columns=\"Gauge\")"
   ]
  },
  {
   "cell_type": "code",
   "execution_count": 234,
   "metadata": {},
   "outputs": [
    {
     "data": {
      "text/html": [
       "<div>\n",
       "<style scoped>\n",
       "    .dataframe tbody tr th:only-of-type {\n",
       "        vertical-align: middle;\n",
       "    }\n",
       "\n",
       "    .dataframe tbody tr th {\n",
       "        vertical-align: top;\n",
       "    }\n",
       "\n",
       "    .dataframe thead th {\n",
       "        text-align: right;\n",
       "    }\n",
       "</style>\n",
       "<table border=\"1\" class=\"dataframe\">\n",
       "  <thead>\n",
       "    <tr style=\"text-align: right;\">\n",
       "      <th></th>\n",
       "      <th>Energy</th>\n",
       "      <th>Gauge</th>\n",
       "    </tr>\n",
       "  </thead>\n",
       "  <tbody>\n",
       "    <tr>\n",
       "      <th>0</th>\n",
       "      <td>3.134149</td>\n",
       "      <td>0.000006</td>\n",
       "    </tr>\n",
       "    <tr>\n",
       "      <th>1</th>\n",
       "      <td>5.218007</td>\n",
       "      <td>0.000014</td>\n",
       "    </tr>\n",
       "    <tr>\n",
       "      <th>3</th>\n",
       "      <td>5.371608</td>\n",
       "      <td>0.000120</td>\n",
       "    </tr>\n",
       "    <tr>\n",
       "      <th>6</th>\n",
       "      <td>7.361751</td>\n",
       "      <td>0.000268</td>\n",
       "    </tr>\n",
       "    <tr>\n",
       "      <th>2</th>\n",
       "      <td>5.247088</td>\n",
       "      <td>0.000331</td>\n",
       "    </tr>\n",
       "  </tbody>\n",
       "</table>\n",
       "</div>"
      ],
      "text/plain": [
       "     Energy     Gauge\n",
       "0  3.134149  0.000006\n",
       "1  5.218007  0.000014\n",
       "3  5.371608  0.000120\n",
       "6  7.361751  0.000268\n",
       "2  5.247088  0.000331"
      ]
     },
     "execution_count": 234,
     "metadata": {},
     "output_type": "execute_result"
    }
   ],
   "source": [
    "dfp.nsmallest(5,columns=\"Gauge\")"
   ]
  },
  {
   "cell_type": "markdown",
   "metadata": {},
   "source": [
    "The five lowest eigenstates of $\\hat{H}'$ (which are different from the lowest values of $\\langle E | \\hat{H} | E \\rangle$)"
   ]
  },
  {
   "cell_type": "code",
   "execution_count": 235,
   "metadata": {},
   "outputs": [
    {
     "data": {
      "text/html": [
       "<div>\n",
       "<style scoped>\n",
       "    .dataframe tbody tr th:only-of-type {\n",
       "        vertical-align: middle;\n",
       "    }\n",
       "\n",
       "    .dataframe tbody tr th {\n",
       "        vertical-align: top;\n",
       "    }\n",
       "\n",
       "    .dataframe thead th {\n",
       "        text-align: right;\n",
       "    }\n",
       "</style>\n",
       "<table border=\"1\" class=\"dataframe\">\n",
       "  <thead>\n",
       "    <tr style=\"text-align: right;\">\n",
       "      <th></th>\n",
       "      <th>Energy</th>\n",
       "      <th>Gauge</th>\n",
       "    </tr>\n",
       "  </thead>\n",
       "  <tbody>\n",
       "    <tr>\n",
       "      <th>0</th>\n",
       "      <td>3.134149</td>\n",
       "      <td>0.000006</td>\n",
       "    </tr>\n",
       "    <tr>\n",
       "      <th>1</th>\n",
       "      <td>5.218007</td>\n",
       "      <td>0.000014</td>\n",
       "    </tr>\n",
       "    <tr>\n",
       "      <th>2</th>\n",
       "      <td>5.247088</td>\n",
       "      <td>0.000331</td>\n",
       "    </tr>\n",
       "    <tr>\n",
       "      <th>3</th>\n",
       "      <td>5.371608</td>\n",
       "      <td>0.000120</td>\n",
       "    </tr>\n",
       "    <tr>\n",
       "      <th>4</th>\n",
       "      <td>7.224794</td>\n",
       "      <td>0.000609</td>\n",
       "    </tr>\n",
       "  </tbody>\n",
       "</table>\n",
       "</div>"
      ],
      "text/plain": [
       "     Energy     Gauge\n",
       "0  3.134149  0.000006\n",
       "1  5.218007  0.000014\n",
       "2  5.247088  0.000331\n",
       "3  5.371608  0.000120\n",
       "4  7.224794  0.000609"
      ]
     },
     "execution_count": 235,
     "metadata": {},
     "output_type": "execute_result"
    }
   ],
   "source": [
    "dfp.iloc[:5]"
   ]
  },
  {
   "cell_type": "markdown",
   "metadata": {},
   "source": [
    "Plot Fig. 4 of the draft using $\\Lambda=4$ data"
   ]
  },
  {
   "cell_type": "code",
   "execution_count": 237,
   "metadata": {},
   "outputs": [
    {
     "data": {
      "image/png": "[encoded data removed]",
      "text/plain": [
       "<Figure size 864x576 with 1 Axes>"
      ]
     },
     "metadata": {
      "needs_background": "light"
     },
     "output_type": "display_data"
    }
   ],
   "source": [
    "fig, ax = plt.subplots(figsize=(12,8))\n",
    "L = 4\n",
    "# 5 smallest GV for action with no penalty\n",
    "df.nsmallest(5,columns=\"Gauge\").plot(\n",
    "    x=\"Energy\",\n",
    "    y=\"Gauge\",\n",
    "    linestyle=\"\",\n",
    "    marker=\"o\",\n",
    "    markersize=10,\n",
    "    logy=True,\n",
    "    label=rf\"E\",\n",
    "    ax=ax,\n",
    ")\n",
    "# 5 lowest eigenstates for action with penalty\n",
    "dfp.iloc[:5].plot(\n",
    "    x=\"Energy\",\n",
    "    y=\"Gauge\",\n",
    "    linestyle=\"\",\n",
    "    marker=\"s\",\n",
    "    markersize=10,\n",
    "    logy=True,\n",
    "    label=rf\"E'\",\n",
    "    ax=ax,\n",
    ")\n",
    "ax.grid()\n",
    "ax.set_xlabel(\"Energy\", rotation=0)\n",
    "ax.set_ylabel(r\"$G^2$\", rotation=0)\n",
    "ax.legend(loc=\"upper left\")\n",
    "plt.savefig(f\"l02_gs_gv_small5_L4.pdf\")"
   ]
  },
  {
   "cell_type": "markdown",
   "metadata": {},
   "source": [
    "### With $G^2$ penalty "
   ]
  },
  {
   "cell_type": "code",
   "execution_count": 65,
   "metadata": {},
   "outputs": [
    {
     "data": {
      "text/html": [
       "<div>\n",
       "<style scoped>\n",
       "    .dataframe tbody tr th:only-of-type {\n",
       "        vertical-align: middle;\n",
       "    }\n",
       "\n",
       "    .dataframe tbody tr th {\n",
       "        vertical-align: top;\n",
       "    }\n",
       "\n",
       "    .dataframe thead th {\n",
       "        text-align: right;\n",
       "    }\n",
       "</style>\n",
       "<table border=\"1\" class=\"dataframe\">\n",
       "  <thead>\n",
       "    <tr style=\"text-align: right;\">\n",
       "      <th></th>\n",
       "      <th>Lambda</th>\n",
       "      <th>GaugeViolation0</th>\n",
       "      <th>GaugeViolation1</th>\n",
       "      <th>GaugeViolation2</th>\n",
       "      <th>GaugeViolation3</th>\n",
       "      <th>GaugeViolation4</th>\n",
       "      <th>GaugeViolation5</th>\n",
       "      <th>GaugeViolation6</th>\n",
       "      <th>GaugeViolation7</th>\n",
       "      <th>GaugeViolation8</th>\n",
       "      <th>...</th>\n",
       "      <th>GaugeViolation10</th>\n",
       "      <th>GaugeViolation11</th>\n",
       "      <th>GaugeViolation12</th>\n",
       "      <th>GaugeViolation13</th>\n",
       "      <th>GaugeViolation14</th>\n",
       "      <th>GaugeViolation15</th>\n",
       "      <th>GaugeViolation16</th>\n",
       "      <th>GaugeViolation17</th>\n",
       "      <th>GaugeViolation18</th>\n",
       "      <th>GaugeViolation19</th>\n",
       "    </tr>\n",
       "  </thead>\n",
       "  <tbody>\n",
       "    <tr>\n",
       "      <th>3</th>\n",
       "      <td>3</td>\n",
       "      <td>1.327542e-06</td>\n",
       "      <td>2.890487e-05</td>\n",
       "      <td>2.296810e-04</td>\n",
       "      <td>3.424909e-05</td>\n",
       "      <td>0.000011</td>\n",
       "      <td>0.000106</td>\n",
       "      <td>0.000039</td>\n",
       "      <td>0.000505</td>\n",
       "      <td>0.000112</td>\n",
       "      <td>...</td>\n",
       "      <td>0.000414</td>\n",
       "      <td>0.000216</td>\n",
       "      <td>0.000684</td>\n",
       "      <td>1.998869</td>\n",
       "      <td>1.998869</td>\n",
       "      <td>1.998869</td>\n",
       "      <td>1.998869</td>\n",
       "      <td>1.998869</td>\n",
       "      <td>1.998869</td>\n",
       "      <td>0.000091</td>\n",
       "    </tr>\n",
       "    <tr>\n",
       "      <th>4</th>\n",
       "      <td>5</td>\n",
       "      <td>5.740269e-08</td>\n",
       "      <td>5.494228e-06</td>\n",
       "      <td>2.373002e-05</td>\n",
       "      <td>1.296690e-06</td>\n",
       "      <td>0.000071</td>\n",
       "      <td>0.000050</td>\n",
       "      <td>0.000966</td>\n",
       "      <td>0.000034</td>\n",
       "      <td>0.000321</td>\n",
       "      <td>...</td>\n",
       "      <td>0.000252</td>\n",
       "      <td>0.000263</td>\n",
       "      <td>0.000257</td>\n",
       "      <td>0.000216</td>\n",
       "      <td>0.000648</td>\n",
       "      <td>0.001183</td>\n",
       "      <td>0.011324</td>\n",
       "      <td>0.000427</td>\n",
       "      <td>0.000346</td>\n",
       "      <td>0.000177</td>\n",
       "    </tr>\n",
       "    <tr>\n",
       "      <th>5</th>\n",
       "      <td>7</td>\n",
       "      <td>1.544712e-09</td>\n",
       "      <td>2.333717e-07</td>\n",
       "      <td>4.782974e-07</td>\n",
       "      <td>4.157539e-08</td>\n",
       "      <td>0.000004</td>\n",
       "      <td>0.000037</td>\n",
       "      <td>0.000006</td>\n",
       "      <td>0.000004</td>\n",
       "      <td>0.000011</td>\n",
       "      <td>...</td>\n",
       "      <td>0.000037</td>\n",
       "      <td>0.000306</td>\n",
       "      <td>0.000048</td>\n",
       "      <td>0.000063</td>\n",
       "      <td>0.000014</td>\n",
       "      <td>0.000471</td>\n",
       "      <td>0.000406</td>\n",
       "      <td>0.000193</td>\n",
       "      <td>0.000550</td>\n",
       "      <td>0.000071</td>\n",
       "    </tr>\n",
       "  </tbody>\n",
       "</table>\n",
       "<p>3 rows × 21 columns</p>\n",
       "</div>"
      ],
      "text/plain": [
       "   Lambda  GaugeViolation0  GaugeViolation1  GaugeViolation2  GaugeViolation3  \\\n",
       "3       3     1.327542e-06     2.890487e-05     2.296810e-04     3.424909e-05   \n",
       "4       5     5.740269e-08     5.494228e-06     2.373002e-05     1.296690e-06   \n",
       "5       7     1.544712e-09     2.333717e-07     4.782974e-07     4.157539e-08   \n",
       "\n",
       "   GaugeViolation4  GaugeViolation5  GaugeViolation6  GaugeViolation7  \\\n",
       "3         0.000011         0.000106         0.000039         0.000505   \n",
       "4         0.000071         0.000050         0.000966         0.000034   \n",
       "5         0.000004         0.000037         0.000006         0.000004   \n",
       "\n",
       "   GaugeViolation8  ...  GaugeViolation10  GaugeViolation11  GaugeViolation12  \\\n",
       "3         0.000112  ...          0.000414          0.000216          0.000684   \n",
       "4         0.000321  ...          0.000252          0.000263          0.000257   \n",
       "5         0.000011  ...          0.000037          0.000306          0.000048   \n",
       "\n",
       "   GaugeViolation13  GaugeViolation14  GaugeViolation15  GaugeViolation16  \\\n",
       "3          1.998869          1.998869          1.998869          1.998869   \n",
       "4          0.000216          0.000648          0.001183          0.011324   \n",
       "5          0.000063          0.000014          0.000471          0.000406   \n",
       "\n",
       "   GaugeViolation17  GaugeViolation18  GaugeViolation19  \n",
       "3          1.998869          1.998869          0.000091  \n",
       "4          0.000427          0.000346          0.000177  \n",
       "5          0.000193          0.000550          0.000071  \n",
       "\n",
       "[3 rows x 21 columns]"
      ]
     },
     "execution_count": 65,
     "metadata": {},
     "output_type": "execute_result"
    }
   ],
   "source": [
    "eigsp = gv.query(\"Penalty > 0\").iloc[:,2:]\n",
    "eigsp"
   ]
  },
  {
   "cell_type": "code",
   "execution_count": 66,
   "metadata": {},
   "outputs": [
    {
     "data": {
      "image/png": "[encoded data removed]",
      "text/plain": [
       "<Figure size 432x288 with 1 Axes>"
      ]
     },
     "metadata": {
      "needs_background": "light"
     },
     "output_type": "display_data"
    }
   ],
   "source": [
    "plot_gauge(eigsp)"
   ]
  },
  {
   "cell_type": "markdown",
   "metadata": {},
   "source": [
    "## Combine gauge violation and energy"
   ]
  },
  {
   "cell_type": "markdown",
   "metadata": {},
   "source": [
    "We want to order the eigenvalues using the $G^2$ expectation value and show that the ones with low values, which are probably closer to being gauge singlets, don't have their energy modified too much when the Hamiltonian is modified\n",
    "\n",
    "**Note** \n",
    "What follows in this section is not correct because using the sparse solver can cause errors when dealing with degeneracies and we also seem to need more than the lowest 20 eigenvalues (more like 100)"
   ]
  },
  {
   "cell_type": "code",
   "execution_count": 67,
   "metadata": {},
   "outputs": [
    {
     "data": {
      "text/html": [
       "<div>\n",
       "<style scoped>\n",
       "    .dataframe tbody tr th:only-of-type {\n",
       "        vertical-align: middle;\n",
       "    }\n",
       "\n",
       "    .dataframe tbody tr th {\n",
       "        vertical-align: top;\n",
       "    }\n",
       "\n",
       "    .dataframe thead th {\n",
       "        text-align: right;\n",
       "    }\n",
       "</style>\n",
       "<table border=\"1\" class=\"dataframe\">\n",
       "  <thead>\n",
       "    <tr style=\"text-align: right;\">\n",
       "      <th></th>\n",
       "      <th>Penalty</th>\n",
       "      <th>Coupling</th>\n",
       "      <th>Lambda</th>\n",
       "      <th>Energy0</th>\n",
       "      <th>Energy1</th>\n",
       "      <th>Energy2</th>\n",
       "      <th>Energy3</th>\n",
       "      <th>Energy4</th>\n",
       "      <th>Energy5</th>\n",
       "      <th>Energy6</th>\n",
       "      <th>...</th>\n",
       "      <th>GaugeViolation10</th>\n",
       "      <th>GaugeViolation11</th>\n",
       "      <th>GaugeViolation12</th>\n",
       "      <th>GaugeViolation13</th>\n",
       "      <th>GaugeViolation14</th>\n",
       "      <th>GaugeViolation15</th>\n",
       "      <th>GaugeViolation16</th>\n",
       "      <th>GaugeViolation17</th>\n",
       "      <th>GaugeViolation18</th>\n",
       "      <th>GaugeViolation19</th>\n",
       "    </tr>\n",
       "  </thead>\n",
       "  <tbody>\n",
       "    <tr>\n",
       "      <th>0</th>\n",
       "      <td>0</td>\n",
       "      <td>0.2</td>\n",
       "      <td>3</td>\n",
       "      <td>3.132305</td>\n",
       "      <td>4.219673</td>\n",
       "      <td>4.219673</td>\n",
       "      <td>4.219673</td>\n",
       "      <td>4.219673</td>\n",
       "      <td>4.219673</td>\n",
       "      <td>4.219673</td>\n",
       "      <td>...</td>\n",
       "      <td>6.000094</td>\n",
       "      <td>6.000094</td>\n",
       "      <td>0.044634</td>\n",
       "      <td>0.014320</td>\n",
       "      <td>6.005928</td>\n",
       "      <td>6.005928</td>\n",
       "      <td>6.005928</td>\n",
       "      <td>6.003716</td>\n",
       "      <td>6.003716</td>\n",
       "      <td>6.003716</td>\n",
       "    </tr>\n",
       "    <tr>\n",
       "      <th>1</th>\n",
       "      <td>0</td>\n",
       "      <td>0.2</td>\n",
       "      <td>5</td>\n",
       "      <td>3.133908</td>\n",
       "      <td>4.215774</td>\n",
       "      <td>4.215774</td>\n",
       "      <td>4.215774</td>\n",
       "      <td>4.215774</td>\n",
       "      <td>4.215774</td>\n",
       "      <td>4.215774</td>\n",
       "      <td>...</td>\n",
       "      <td>6.000563</td>\n",
       "      <td>6.000356</td>\n",
       "      <td>6.000356</td>\n",
       "      <td>6.000356</td>\n",
       "      <td>6.000354</td>\n",
       "      <td>6.000354</td>\n",
       "      <td>6.000297</td>\n",
       "      <td>6.000297</td>\n",
       "      <td>6.000297</td>\n",
       "      <td>5.999148</td>\n",
       "    </tr>\n",
       "    <tr>\n",
       "      <th>2</th>\n",
       "      <td>0</td>\n",
       "      <td>0.2</td>\n",
       "      <td>7</td>\n",
       "      <td>3.133925</td>\n",
       "      <td>4.215738</td>\n",
       "      <td>4.215738</td>\n",
       "      <td>4.215738</td>\n",
       "      <td>4.215738</td>\n",
       "      <td>4.215738</td>\n",
       "      <td>4.215738</td>\n",
       "      <td>...</td>\n",
       "      <td>6.000014</td>\n",
       "      <td>6.000006</td>\n",
       "      <td>6.000006</td>\n",
       "      <td>6.000006</td>\n",
       "      <td>6.000007</td>\n",
       "      <td>6.000007</td>\n",
       "      <td>6.000005</td>\n",
       "      <td>6.000005</td>\n",
       "      <td>6.000005</td>\n",
       "      <td>5.999985</td>\n",
       "    </tr>\n",
       "    <tr>\n",
       "      <th>3</th>\n",
       "      <td>3</td>\n",
       "      <td>0.2</td>\n",
       "      <td>3</td>\n",
       "      <td>3.132349</td>\n",
       "      <td>5.087968</td>\n",
       "      <td>5.241913</td>\n",
       "      <td>5.264302</td>\n",
       "      <td>7.066203</td>\n",
       "      <td>7.228764</td>\n",
       "      <td>7.234682</td>\n",
       "      <td>...</td>\n",
       "      <td>0.000414</td>\n",
       "      <td>0.000216</td>\n",
       "      <td>0.000684</td>\n",
       "      <td>1.998869</td>\n",
       "      <td>1.998869</td>\n",
       "      <td>1.998869</td>\n",
       "      <td>1.998869</td>\n",
       "      <td>1.998869</td>\n",
       "      <td>1.998869</td>\n",
       "      <td>0.000091</td>\n",
       "    </tr>\n",
       "    <tr>\n",
       "      <th>4</th>\n",
       "      <td>5</td>\n",
       "      <td>0.2</td>\n",
       "      <td>5</td>\n",
       "      <td>3.133910</td>\n",
       "      <td>5.217006</td>\n",
       "      <td>5.219966</td>\n",
       "      <td>5.356479</td>\n",
       "      <td>7.236652</td>\n",
       "      <td>7.328839</td>\n",
       "      <td>7.338266</td>\n",
       "      <td>...</td>\n",
       "      <td>0.000252</td>\n",
       "      <td>0.000263</td>\n",
       "      <td>0.000257</td>\n",
       "      <td>0.000216</td>\n",
       "      <td>0.000648</td>\n",
       "      <td>0.001183</td>\n",
       "      <td>0.011324</td>\n",
       "      <td>0.000427</td>\n",
       "      <td>0.000346</td>\n",
       "      <td>0.000177</td>\n",
       "    </tr>\n",
       "    <tr>\n",
       "      <th>5</th>\n",
       "      <td>7</td>\n",
       "      <td>0.2</td>\n",
       "      <td>7</td>\n",
       "      <td>3.133925</td>\n",
       "      <td>5.219488</td>\n",
       "      <td>5.219546</td>\n",
       "      <td>5.357606</td>\n",
       "      <td>7.301123</td>\n",
       "      <td>7.303631</td>\n",
       "      <td>7.382238</td>\n",
       "      <td>...</td>\n",
       "      <td>0.000037</td>\n",
       "      <td>0.000306</td>\n",
       "      <td>0.000048</td>\n",
       "      <td>0.000063</td>\n",
       "      <td>0.000014</td>\n",
       "      <td>0.000471</td>\n",
       "      <td>0.000406</td>\n",
       "      <td>0.000193</td>\n",
       "      <td>0.000550</td>\n",
       "      <td>0.000071</td>\n",
       "    </tr>\n",
       "  </tbody>\n",
       "</table>\n",
       "<p>6 rows × 43 columns</p>\n",
       "</div>"
      ],
      "text/plain": [
       "   Penalty  Coupling  Lambda   Energy0   Energy1   Energy2   Energy3  \\\n",
       "0        0       0.2       3  3.132305  4.219673  4.219673  4.219673   \n",
       "1        0       0.2       5  3.133908  4.215774  4.215774  4.215774   \n",
       "2        0       0.2       7  3.133925  4.215738  4.215738  4.215738   \n",
       "3        3       0.2       3  3.132349  5.087968  5.241913  5.264302   \n",
       "4        5       0.2       5  3.133910  5.217006  5.219966  5.356479   \n",
       "5        7       0.2       7  3.133925  5.219488  5.219546  5.357606   \n",
       "\n",
       "    Energy4   Energy5   Energy6  ...  GaugeViolation10  GaugeViolation11  \\\n",
       "0  4.219673  4.219673  4.219673  ...          6.000094          6.000094   \n",
       "1  4.215774  4.215774  4.215774  ...          6.000563          6.000356   \n",
       "2  4.215738  4.215738  4.215738  ...          6.000014          6.000006   \n",
       "3  7.066203  7.228764  7.234682  ...          0.000414          0.000216   \n",
       "4  7.236652  7.328839  7.338266  ...          0.000252          0.000263   \n",
       "5  7.301123  7.303631  7.382238  ...          0.000037          0.000306   \n",
       "\n",
       "   GaugeViolation12  GaugeViolation13  GaugeViolation14  GaugeViolation15  \\\n",
       "0          0.044634          0.014320          6.005928          6.005928   \n",
       "1          6.000356          6.000356          6.000354          6.000354   \n",
       "2          6.000006          6.000006          6.000007          6.000007   \n",
       "3          0.000684          1.998869          1.998869          1.998869   \n",
       "4          0.000257          0.000216          0.000648          0.001183   \n",
       "5          0.000048          0.000063          0.000014          0.000471   \n",
       "\n",
       "   GaugeViolation16  GaugeViolation17  GaugeViolation18  GaugeViolation19  \n",
       "0          6.005928          6.003716          6.003716          6.003716  \n",
       "1          6.000297          6.000297          6.000297          5.999148  \n",
       "2          6.000005          6.000005          6.000005          5.999985  \n",
       "3          1.998869          1.998869          1.998869          0.000091  \n",
       "4          0.011324          0.000427          0.000346          0.000177  \n",
       "5          0.000406          0.000193          0.000550          0.000071  \n",
       "\n",
       "[6 rows x 43 columns]"
      ]
     },
     "execution_count": 67,
     "metadata": {},
     "output_type": "execute_result"
    }
   ],
   "source": [
    "data = pd.merge(gs,gv)\n",
    "data"
   ]
  },
  {
   "cell_type": "markdown",
   "metadata": {},
   "source": [
    "Select a data point of fixed `Coupling`, `Penalty` and `Lambda`"
   ]
  },
  {
   "cell_type": "code",
   "execution_count": 97,
   "metadata": {},
   "outputs": [],
   "source": [
    "L = 5\n",
    "df = pd.DataFrame(columns=['Energy', 'Gauge'])\n",
    "df['Energy'] = gs.query(\"Penalty == 0 & Coupling == 0.2 & Lambda == @L\").loc[:,gs.columns[3:]].reset_index(drop=True).iloc[0].values\n",
    "df['Gauge'] = gv.query(\"Penalty == 0 & Coupling == 0.2 & Lambda == @L\").loc[:,gv.columns[3:]].reset_index(drop=True).iloc[0].values"
   ]
  },
  {
   "cell_type": "markdown",
   "metadata": {},
   "source": [
    "Get the smallest 5 values of $G^2$ and the corresponding energies"
   ]
  },
  {
   "cell_type": "code",
   "execution_count": 105,
   "metadata": {},
   "outputs": [
    {
     "data": {
      "text/html": [
       "<div>\n",
       "<style scoped>\n",
       "    .dataframe tbody tr th:only-of-type {\n",
       "        vertical-align: middle;\n",
       "    }\n",
       "\n",
       "    .dataframe tbody tr th {\n",
       "        vertical-align: top;\n",
       "    }\n",
       "\n",
       "    .dataframe thead th {\n",
       "        text-align: right;\n",
       "    }\n",
       "</style>\n",
       "<table border=\"1\" class=\"dataframe\">\n",
       "  <thead>\n",
       "    <tr style=\"text-align: right;\">\n",
       "      <th></th>\n",
       "      <th>Energy</th>\n",
       "      <th>Gauge</th>\n",
       "    </tr>\n",
       "  </thead>\n",
       "  <tbody>\n",
       "    <tr>\n",
       "      <th>0</th>\n",
       "      <td>3.133908</td>\n",
       "      <td>0.000005</td>\n",
       "    </tr>\n",
       "    <tr>\n",
       "      <th>8</th>\n",
       "      <td>5.219716</td>\n",
       "      <td>0.000423</td>\n",
       "    </tr>\n",
       "    <tr>\n",
       "      <th>7</th>\n",
       "      <td>5.216718</td>\n",
       "      <td>0.001369</td>\n",
       "    </tr>\n",
       "    <tr>\n",
       "      <th>1</th>\n",
       "      <td>4.215774</td>\n",
       "      <td>2.000098</td>\n",
       "    </tr>\n",
       "    <tr>\n",
       "      <th>6</th>\n",
       "      <td>4.215774</td>\n",
       "      <td>2.000098</td>\n",
       "    </tr>\n",
       "    <tr>\n",
       "      <th>3</th>\n",
       "      <td>4.215774</td>\n",
       "      <td>2.000098</td>\n",
       "    </tr>\n",
       "  </tbody>\n",
       "</table>\n",
       "</div>"
      ],
      "text/plain": [
       "     Energy     Gauge\n",
       "0  3.133908  0.000005\n",
       "8  5.219716  0.000423\n",
       "7  5.216718  0.001369\n",
       "1  4.215774  2.000098\n",
       "6  4.215774  2.000098\n",
       "3  4.215774  2.000098"
      ]
     },
     "execution_count": 105,
     "metadata": {},
     "output_type": "execute_result"
    }
   ],
   "source": [
    "df.nsmallest(6,columns=[\"Gauge\"])"
   ]
  },
  {
   "cell_type": "code",
   "execution_count": 103,
   "metadata": {},
   "outputs": [
    {
     "data": {
      "text/plain": [
       "<matplotlib.legend.Legend at 0x7ff0326dc280>"
      ]
     },
     "execution_count": 103,
     "metadata": {},
     "output_type": "execute_result"
    },
    {
     "data": {
      "image/png": "[encoded data removed]",
      "text/plain": [
       "<Figure size 432x288 with 1 Axes>"
      ]
     },
     "metadata": {
      "needs_background": "light"
     },
     "output_type": "display_data"
    }
   ],
   "source": [
    "fig, ax = plt.subplots()\n",
    "df.nsmallest(6,columns=[\"Gauge\"]).plot(x='Energy',y='Gauge', linestyle=\"\", marker=\"o\", logy=True, label=r\"$\\Lambda=7$\", ax=ax)\n",
    "ax.grid()\n",
    "ax.set_ylabel(r\"$G^2$\",rotation=0)\n",
    "ax.legend(loc=\"upper right\")"
   ]
  },
  {
   "cell_type": "code",
   "execution_count": 194,
   "metadata": {},
   "outputs": [],
   "source": [
    "def get_n_smallest_gauge(gs, gv, n):\n",
    "    df = pd.DataFrame(columns=[\"Energy\", \"Gauge\"])\n",
    "    df[\"Energy\"] = gs.loc[:, gs.columns[3:]].reset_index(drop=True).iloc[0].values\n",
    "    df[\"Gauge\"] = gv.loc[:, gv.columns[3:]].reset_index(drop=True).iloc[0].values\n",
    "    return df.nsmallest(n, columns=[\"Gauge\"])\n",
    "\n"
   ]
  },
  {
   "cell_type": "code",
   "execution_count": 195,
   "metadata": {},
   "outputs": [],
   "source": [
    "def get_n_smallest_energy(gs, gv, n):\n",
    "    df = pd.DataFrame(columns=[\"Energy\", \"Gauge\"])\n",
    "    df[\"Energy\"] = gs.loc[:, gs.columns[3:]].reset_index(drop=True).iloc[0].values\n",
    "    df[\"Gauge\"] = gv.loc[:, gv.columns[3:]].reset_index(drop=True).iloc[0].values\n",
    "    return df.nsmallest(n, columns=[\"Energy\"])"
   ]
  },
  {
   "cell_type": "code",
   "execution_count": 240,
   "metadata": {},
   "outputs": [],
   "source": [
    "def get_n_smallest(gs, gv, n):\n",
    "    df = pd.DataFrame(columns=[\"Energy\", \"Gauge\"])\n",
    "    df[\"Energy\"] = gs.loc[:, gs.columns[3:]].reset_index(drop=True).iloc[0].values\n",
    "    df[\"Gauge\"] = gv.loc[:, gv.columns[3:]].reset_index(drop=True).iloc[0].values\n",
    "    return df.iloc[:n]"
   ]
  },
  {
   "cell_type": "markdown",
   "metadata": {},
   "source": [
    "With no penalty"
   ]
  },
  {
   "cell_type": "code",
   "execution_count": 238,
   "metadata": {},
   "outputs": [
    {
     "data": {
      "text/plain": [
       "<matplotlib.legend.Legend at 0x7ff02feb9b50>"
      ]
     },
     "execution_count": 238,
     "metadata": {},
     "output_type": "execute_result"
    },
    {
     "data": {
      "image/png": "[encoded data removed]",
      "text/plain": [
       "<Figure size 432x288 with 1 Axes>"
      ]
     },
     "metadata": {
      "needs_background": "light"
     },
     "output_type": "display_data"
    }
   ],
   "source": [
    "fig, ax = plt.subplots()\n",
    "for L in [3, 5, 7]:\n",
    "    n_small = get_n_smallest_gauge(\n",
    "        gs.query(\"Penalty == 0 & Coupling == 0.2 & Lambda == @L\"),\n",
    "        gv.query(\"Penalty == 0 & Coupling == 0.2 & Lambda == @L\"),\n",
    "        5,\n",
    "    )\n",
    "    n_small.plot(\n",
    "        x=\"Energy\",\n",
    "        y=\"Gauge\",\n",
    "        linestyle=\"\",\n",
    "        marker=\"o\",\n",
    "        logy=True,\n",
    "        label=rf\"$\\Lambda=${L}\",\n",
    "        ax=ax,\n",
    "    )\n",
    "ax.grid()\n",
    "ax.set_ylabel(r\"$G^2$\", rotation=0)\n",
    "ax.legend(loc=\"upper left\")\n"
   ]
  },
  {
   "cell_type": "markdown",
   "metadata": {},
   "source": [
    "With penalty"
   ]
  },
  {
   "cell_type": "code",
   "execution_count": 239,
   "metadata": {},
   "outputs": [
    {
     "data": {
      "text/plain": [
       "<matplotlib.legend.Legend at 0x7ff02fc478b0>"
      ]
     },
     "execution_count": 239,
     "metadata": {},
     "output_type": "execute_result"
    },
    {
     "data": {
      "image/png": "[encoded data removed]",
      "text/plain": [
       "<Figure size 864x576 with 1 Axes>"
      ]
     },
     "metadata": {
      "needs_background": "light"
     },
     "output_type": "display_data"
    }
   ],
   "source": [
    "fig, ax = plt.subplots(figsize=(12,8))\n",
    "markers = [\"o\",\"s\",\"v\"]\n",
    "for i,L in enumerate([3, 5, 7]):\n",
    "    n_small = get_n_smallest_gauge(\n",
    "        gs.query(\"Penalty > 0 & Coupling == 0.2 & Lambda == @L\"),\n",
    "        gv.query(\"Penalty > 0 & Coupling == 0.2 & Lambda == @L\"),\n",
    "        5,\n",
    "    )\n",
    "    n_small.plot(\n",
    "        x=\"Energy\",\n",
    "        y=\"Gauge\",\n",
    "        linestyle=\"\",\n",
    "        marker=markers[i],\n",
    "        markersize=10,\n",
    "        logy=True,\n",
    "        label=rf\"$\\Lambda=${L}\",\n",
    "        ax=ax,\n",
    "    )\n",
    "ax.grid()\n",
    "ax.set_ylabel(r\"$G^2$\", rotation=0)\n",
    "ax.legend(loc=\"lower right\")\n"
   ]
  },
  {
   "cell_type": "markdown",
   "metadata": {},
   "source": [
    "With penalty but the lowest 5 eigenstates (without looking at the energy values)"
   ]
  },
  {
   "cell_type": "code",
   "execution_count": 241,
   "metadata": {},
   "outputs": [
    {
     "data": {
      "text/plain": [
       "<matplotlib.legend.Legend at 0x7ff02fb0ad30>"
      ]
     },
     "execution_count": 241,
     "metadata": {},
     "output_type": "execute_result"
    },
    {
     "data": {
      "image/png": "[encoded data removed]",
      "text/plain": [
       "<Figure size 864x576 with 1 Axes>"
      ]
     },
     "metadata": {
      "needs_background": "light"
     },
     "output_type": "display_data"
    }
   ],
   "source": [
    "fig, ax = plt.subplots(figsize=(12,8))\n",
    "markers = [\"o\",\"s\",\"v\"]\n",
    "for i,L in enumerate([3, 5, 7]):\n",
    "    n_small = get_n_smallest(\n",
    "        gs.query(\"Penalty > 0 & Coupling == 0.2 & Lambda == @L\"),\n",
    "        gv.query(\"Penalty > 0 & Coupling == 0.2 & Lambda == @L\"),\n",
    "        5,\n",
    "    )\n",
    "    n_small.plot(\n",
    "        x=\"Energy\",\n",
    "        y=\"Gauge\",\n",
    "        linestyle=\"\",\n",
    "        marker=markers[i],\n",
    "        markersize=10,\n",
    "        logy=True,\n",
    "        label=rf\"$\\Lambda=${L}\",\n",
    "        ax=ax,\n",
    "    )\n",
    "ax.grid()\n",
    "ax.set_ylabel(r\"$G^2$\", rotation=0)\n",
    "ax.legend(loc=\"lower right\")"
   ]
  },
  {
   "cell_type": "markdown",
   "metadata": {},
   "source": [
    "Get the original eigenstates with the smallest gauge and the perturbed eigenstates with the smallest energy"
   ]
  },
  {
   "cell_type": "code",
   "execution_count": 242,
   "metadata": {},
   "outputs": [
    {
     "data": {
      "image/png": "[encoded data removed]",
      "text/plain": [
       "<Figure size 864x576 with 1 Axes>"
      ]
     },
     "metadata": {
      "needs_background": "light"
     },
     "output_type": "display_data"
    }
   ],
   "source": [
    "fig, ax = plt.subplots(figsize=(12,8))\n",
    "L = 7\n",
    "n_small_p = get_n_smallest(\n",
    "    gs.query(\"Penalty > 0 & Coupling == 0.2 & Lambda == @L\"),\n",
    "    gv.query(\"Penalty > 0 & Coupling == 0.2 & Lambda == @L\"),\n",
    "    5,\n",
    ")\n",
    "n_small = get_n_smallest_gauge(\n",
    "    gs.query(\"Penalty == 0 & Coupling == 0.2 & Lambda == @L\"),\n",
    "    gv.query(\"Penalty == 0 & Coupling == 0.2 & Lambda == @L\"),\n",
    "    5,\n",
    ")\n",
    "n_small.plot(\n",
    "    x=\"Energy\",\n",
    "    y=\"Gauge\",\n",
    "    linestyle=\"\",\n",
    "    marker=\"o\",\n",
    "    markersize=10,\n",
    "    logy=True,\n",
    "    label=rf\"E\",\n",
    "    ax=ax,\n",
    ")\n",
    "n_small_p.plot(\n",
    "    x=\"Energy\",\n",
    "    y=\"Gauge\",\n",
    "    linestyle=\"\",\n",
    "    marker=\"s\",\n",
    "    markersize=10,\n",
    "    logy=True,\n",
    "    label=rf\"E'\",\n",
    "    ax=ax,\n",
    ")\n",
    "ax.grid()\n",
    "ax.set_xlabel(\"Energy\", rotation=0)\n",
    "ax.set_ylabel(r\"$G^2$\", rotation=0)\n",
    "ax.legend(loc=\"upper left\")\n",
    "plt.savefig(f\"l02_gs_gv_small5_L7.pdf\")"
   ]
  },
  {
   "cell_type": "code",
   "execution_count": null,
   "metadata": {},
   "outputs": [],
   "source": [
    "fig, ax = plt.subplots(figsize=(12,8))\n",
    "L = 5\n",
    "n_small_p = get_n_smallest_energy(\n",
    "    gs.query(\"Penalty > 0 & Coupling == 0.2 & Lambda == @L\"),\n",
    "    gv.query(\"Penalty > 0 & Coupling == 0.2 & Lambda == @L\"),\n",
    "    5,\n",
    ")\n",
    "n_small = get_n_smallest_gauge(\n",
    "    gs.query(\"Penalty == 0 & Coupling == 0.2 & Lambda == @L\"),\n",
    "    gv.query(\"Penalty == 0 & Coupling == 0.2 & Lambda == @L\"),\n",
    "    5,\n",
    ")\n",
    "n_small.plot(\n",
    "    x=\"Energy\",\n",
    "    y=\"Gauge\",\n",
    "    linestyle=\"\",\n",
    "    marker=\"o\",\n",
    "    markersize=10,\n",
    "    logy=True,\n",
    "    label=rf\"E\",\n",
    "    ax=ax,\n",
    ")\n",
    "n_small_p.plot(\n",
    "    x=\"Energy\",\n",
    "    y=\"Gauge\",\n",
    "    linestyle=\"\",\n",
    "    marker=\"s\",\n",
    "    markersize=10,\n",
    "    logy=True,\n",
    "    label=rf\"E'\",\n",
    "    ax=ax,\n",
    ")\n",
    "ax.grid()\n",
    "ax.set_xlabel(\"Energy\", rotation=0)\n",
    "ax.set_ylabel(r\"$G^2$\", rotation=0)\n",
    "ax.legend(loc=\"upper left\")\n",
    "plt.savefig(f\"l20_gs_gv_small5_L7.pdf\")"
   ]
  },
  {
   "cell_type": "markdown",
   "metadata": {},
   "source": [
    "## Load data with multiple couplings\n",
    "\n",
    "Get the data for the energy expectation values and the gauge constraint operator expectation values at multiple cutoffs."
   ]
  },
  {
   "cell_type": "code",
   "execution_count": 153,
   "metadata": {},
   "outputs": [],
   "source": [
    "gs_all = pd.read_csv('gs_many.csv', header=0, dtype={\"Penalty\": int, \"Lambda\": int})\n",
    "gv_all = pd.read_csv('gv_many.csv', header=0, dtype={\"Penalty\": int, \"Lambda\": int})"
   ]
  },
  {
   "cell_type": "code",
   "execution_count": 154,
   "metadata": {},
   "outputs": [],
   "source": [
    "l = 1.0 \n",
    "ls = str(l).replace(\".\",\"\")\n",
    "data_gs = gs_all.query(\"Coupling == @l\")"
   ]
  },
  {
   "cell_type": "markdown",
   "metadata": {},
   "source": [
    "## Plot the energy expectation value"
   ]
  },
  {
   "cell_type": "markdown",
   "metadata": {},
   "source": [
    "Make a plot for each eigenstate. The eigenstates come from diagonalizing the modified Hamiltonian $\\hat{H}'$ with $c=\\Lambda$."
   ]
  },
  {
   "cell_type": "code",
   "execution_count": 158,
   "metadata": {},
   "outputs": [
    {
     "data": {
      "image/png": "[encoded data removed]",
      "text/plain": [
       "<Figure size 432x288 with 1 Axes>"
      ]
     },
     "metadata": {
      "needs_background": "light"
     },
     "output_type": "display_data"
    }
   ],
   "source": [
    "state = 4\n",
    "name = f'Energy{int(state)}'\n",
    "fig, ax = plt.subplots()\n",
    "data_gs.plot(x=\"Lambda\", y=name, marker=\"o\", label=rf\"$E_{state}$\", ax=ax)\n",
    "ax.grid()\n",
    "ax.set_ylabel(rf\"$E$\", rotation=90)\n",
    "ax.set_xlabel(r\"$\\Lambda$\")\n",
    "ax.legend(loc=\"lower right\")\n",
    "plt.savefig(f\"l{ls}_gs_e{state}.pdf\")"
   ]
  },
  {
   "cell_type": "code",
   "execution_count": 159,
   "metadata": {},
   "outputs": [
    {
     "data": {
      "image/png": "[encoded data removed]",
      "text/plain": [
       "<Figure size 432x288 with 1 Axes>"
      ]
     },
     "metadata": {
      "needs_background": "light"
     },
     "output_type": "display_data"
    }
   ],
   "source": [
    "markers = ['o','s','v']\n",
    "fig, ax = plt.subplots()\n",
    "for state in [1,2,3]:\n",
    "    name = f'Energy{int(state)}'\n",
    "    data_gs.plot(x=\"Lambda\", y=name, marker=markers[state-1], label=rf\"$E_{state}$\", ax=ax)\n",
    "ax.grid()\n",
    "ax.set_ylabel(rf\"$E$\", rotation=90)\n",
    "ax.set_xlabel(r\"$\\Lambda$\")\n",
    "ax.legend(loc=\"lower right\")\n",
    "ls = str(l).replace(\".\",\"\")\n",
    "plt.savefig(f\"l{ls}_gs_e123.pdf\")"
   ]
  },
  {
   "cell_type": "markdown",
   "metadata": {},
   "source": [
    "## Plot gauge violation"
   ]
  },
  {
   "cell_type": "code",
   "execution_count": 174,
   "metadata": {},
   "outputs": [],
   "source": [
    "l = 0.2\n",
    "ls = str(l).replace(\".\",\"\")\n",
    "data_gv = gv_all.query(\"Coupling == @l\")"
   ]
  },
  {
   "cell_type": "code",
   "execution_count": 171,
   "metadata": {},
   "outputs": [
    {
     "data": {
      "image/png": "[encoded data removed]",
      "text/plain": [
       "<Figure size 432x288 with 1 Axes>"
      ]
     },
     "metadata": {
      "needs_background": "light"
     },
     "output_type": "display_data"
    }
   ],
   "source": [
    "state = 0\n",
    "name = f\"GaugeViolation{int(state)}\"\n",
    "fig, ax = plt.subplots()\n",
    "data_gv.plot(x=\"Lambda\", y=name, logy=True, marker=\"o\", label=rf\"$\\langle E'_{state}|\\hat{{G}}^2|E'_{state}\\rangle$\", ax=ax)\n",
    "ax.grid()\n",
    "ax.set_ylabel(r\"$\\sum_\\alpha\\langle \\hat{G}^2_\\alpha \\rangle$\", rotation=90)\n",
    "ax.set_xlabel(r\"$\\Lambda$\")\n",
    "ax.legend(loc=\"upper right\")\n",
    "plt.savefig(f\"l{ls}_gv_e{state}.pdf\")\n"
   ]
  },
  {
   "cell_type": "code",
   "execution_count": 175,
   "metadata": {},
   "outputs": [
    {
     "data": {
      "image/png": "[encoded data removed]",
      "text/plain": [
       "<Figure size 432x288 with 1 Axes>"
      ]
     },
     "metadata": {
      "needs_background": "light"
     },
     "output_type": "display_data"
    }
   ],
   "source": [
    "markers = [\"o\", \"s\", \"v\", \"^\", \"p\"]\n",
    "fig, ax = plt.subplots()\n",
    "for state in [0, 1, 2, 3, 4]:\n",
    "    name = f\"GaugeViolation{int(state)}\"\n",
    "    data_gv.plot(\n",
    "        x=\"Lambda\",\n",
    "        y=name,\n",
    "        logy=True,\n",
    "        marker=markers[state],\n",
    "        label=rf\"$\\langle E'_{state}|\\hat{{G}}^2|E'_{state}\\rangle$\",\n",
    "        ax=ax,\n",
    "    )\n",
    "ax.grid()\n",
    "ax.set_ylabel(r\"$\\sum_\\alpha\\langle \\hat{G}^2_\\alpha \\rangle$\", rotation=90)\n",
    "ax.set_xlabel(r\"$\\Lambda$\")\n",
    "# ax.legend(bbox_to_anchor = (1.05, 1.0))\n",
    "ax.legend(loc=\"lower left\")\n",
    "plt.savefig(f\"l{ls}_gv_e01234.pdf\")\n"
   ]
  },
  {
   "cell_type": "code",
   "execution_count": 201,
   "metadata": {},
   "outputs": [
    {
     "data": {
      "text/plain": [
       "<matplotlib.legend.Legend at 0x7ff0305540a0>"
      ]
     },
     "execution_count": 201,
     "metadata": {},
     "output_type": "execute_result"
    },
    {
     "data": {
      "image/png": "[encoded data removed]",
      "text/plain": [
       "<Figure size 864x576 with 1 Axes>"
      ]
     },
     "metadata": {
      "needs_background": "light"
     },
     "output_type": "display_data"
    }
   ],
   "source": [
    "fig, ax = plt.subplots(figsize=(12,8))\n",
    "L = 4\n",
    "n_small_p = get_n_smallest_energy(\n",
    "    gs_all.query(\"Penalty > 0 & Coupling == 0.2 & Lambda == @L\"),\n",
    "    gv_all.query(\"Penalty > 0 & Coupling == 0.2 & Lambda == @L\"),\n",
    "    5,\n",
    ")\n",
    "# n_small = get_n_smallest_gauge(\n",
    "#     gs_all.query(\"Penalty == 0 & Coupling == 0.2 & Lambda == @L\"),\n",
    "#     gv_all.query(\"Penalty == 0 & Coupling == 0.2 & Lambda == @L\"),\n",
    "#     5,\n",
    "# )\n",
    "# n_small.plot(\n",
    "#     x=\"Energy\",\n",
    "#     y=\"Gauge\",\n",
    "#     linestyle=\"\",\n",
    "#     marker=\"o\",\n",
    "#     markersize=10,\n",
    "#     logy=True,\n",
    "#     label=rf\"E\",\n",
    "#     ax=ax,\n",
    "# )\n",
    "n_small_p.plot(\n",
    "    x=\"Energy\",\n",
    "    y=\"Gauge\",\n",
    "    linestyle=\"\",\n",
    "    marker=\"s\",\n",
    "    markersize=10,\n",
    "    logy=True,\n",
    "    label=rf\"E'\",\n",
    "    ax=ax,\n",
    ")\n",
    "ax.grid()\n",
    "ax.set_xlabel(\"Energy\", rotation=0)\n",
    "ax.set_ylabel(r\"$G^2$\", rotation=0)\n",
    "ax.legend(loc=\"upper left\")\n",
    "# plt.savefig(f\"l20_gs_gv_small5_L4.pdf\")"
   ]
  }
 ],
 "metadata": {
  "interpreter": {
   "hash": "1709f4256c23dfb8cee10de6c650a6ac409f8c1e5d8e2880b813e5efe3b1c673"
  },
  "kernelspec": {
   "display_name": "Python 3.8.8 64-bit ('qutip': conda)",
   "name": "python3"
  },
  "language_info": {
   "codemirror_mode": {
    "name": "ipython",
    "version": 3
   },
   "file_extension": ".py",
   "mimetype": "text/x-python",
   "name": "python",
   "nbconvert_exporter": "python",
   "pygments_lexer": "ipython3",
   "version": "3.8.8"
  },
  "orig_nbformat": 4
 },
 "nbformat": 4,
 "nbformat_minor": 2
}